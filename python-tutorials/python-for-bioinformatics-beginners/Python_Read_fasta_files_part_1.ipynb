{
 "cells": [
  {
   "cell_type": "markdown",
   "id": "corrected-karaoke",
   "metadata": {},
   "source": [
    "## Read Fasta files in Python"
   ]
  },
  {
   "cell_type": "markdown",
   "id": "given-bankruptcy",
   "metadata": {},
   "source": [
    "- Fasta files are text-files for storing nucleotide(DNA) or peptide(amino acids) sequences\n",
    "- Single or multi-fasta \n",
    "- Fasta files can be read using python library Biopython     \n",
    "    - Function : SeqIO\n",
    "- Biopython can be installed using pip ( _pip install biopython --user_)"
   ]
  },
  {
   "cell_type": "markdown",
   "id": "dressed-newfoundland",
   "metadata": {},
   "source": [
    "## Note: \n",
    "Video tutorials are also available on my youtube channel:  **Bioinformatics Coach**\n",
    "\n",
    "- https://youtu.be/6ooufZEVRUk\n",
    "- https://youtu.be/ZolW-o5m2Eo\n"
   ]
  },
  {
   "cell_type": "code",
   "execution_count": null,
   "id": "prescribed-package",
   "metadata": {},
   "outputs": [],
   "source": []
  },
  {
   "cell_type": "markdown",
   "id": "integrated-metabolism",
   "metadata": {},
   "source": [
    "## Read single sequence fasta files"
   ]
  },
  {
   "cell_type": "code",
   "execution_count": null,
   "id": "together-conditions",
   "metadata": {},
   "outputs": [],
   "source": []
  },
  {
   "cell_type": "code",
   "execution_count": 2,
   "id": "about-copper",
   "metadata": {},
   "outputs": [],
   "source": [
    "#set file path\n",
    "\n",
    "filename=\"/home/kobina/Desktop/sequence.fasta\""
   ]
  },
  {
   "cell_type": "code",
   "execution_count": 3,
   "id": "technological-america",
   "metadata": {},
   "outputs": [],
   "source": [
    "#import biopython\n",
    "\n",
    "from Bio import SeqIO"
   ]
  },
  {
   "cell_type": "code",
   "execution_count": 4,
   "id": "considerable-clear",
   "metadata": {},
   "outputs": [],
   "source": [
    "#read fasta file\n",
    "\n",
    "seq_object=SeqIO.read(filename,\"fasta\")"
   ]
  },
  {
   "cell_type": "code",
   "execution_count": 5,
   "id": "arctic-knife",
   "metadata": {},
   "outputs": [
    {
     "name": "stdout",
     "output_type": "stream",
     "text": [
      "NG_047557.1\n"
     ]
    }
   ],
   "source": [
    "#get sequence id\n",
    "\n",
    "seq_id=seq_object.id\n",
    "print(seq_id)"
   ]
  },
  {
   "cell_type": "code",
   "execution_count": 11,
   "id": "handmade-detroit",
   "metadata": {},
   "outputs": [
    {
     "name": "stdout",
     "output_type": "stream",
     "text": [
      "NG_047557.1\n"
     ]
    }
   ],
   "source": [
    "#get sequence name\n",
    "seq_name=seq_object.name\n",
    "print(seq_name)"
   ]
  },
  {
   "cell_type": "code",
   "execution_count": 12,
   "id": "current-official",
   "metadata": {},
   "outputs": [
    {
     "name": "stdout",
     "output_type": "stream",
     "text": [
      "NG_047557.1 Staphylococcus aureus N315 bleO gene for bleomycin binding protein, complete CDS\n"
     ]
    }
   ],
   "source": [
    "#get sequence description\n",
    "\n",
    "description=seq_object.description\n",
    "print(description)"
   ]
  },
  {
   "cell_type": "code",
   "execution_count": 13,
   "id": "characteristic-income",
   "metadata": {},
   "outputs": [
    {
     "name": "stdout",
     "output_type": "stream",
     "text": [
      "CGGGCCATTTTGCGTAATAAGAAAAAGGATTAATTATGAGCGAATTGAATTAATAATAAGGTAATAGATTTACATTAGAAAATGAAAGGGGATTTTATGCGTGAGAATGTTACAGTCTATCCCGGCATTGCCAGTCGGGGATATTAAAAAGAGTATAGGTTTTTATTGCGATAAACTAGGTTTCACTTTGGTTCACCATGAAGATGGATTCGCAGTTCTAATGTGTAATGAGGTTCGGATTCATCTATGGGAGGCAAGTGATGAAGGCTGGCGCTCTCGTAGTAATGATTCACCGGTTTGTACAGGTGCGGAGTCGTTTATTGCTGGTACTGCTAGTTGCCGCATTGAAGTAGAGGGAATTGATGAATTATATCAACATATTAAGCCTTTGGGCATTTTGCACCCCAATACATCATTAAAAGATCAGTGGTGGGATGAACGAGACTTTGCAGTAATTGATCCCGACAACAATTTGATTAGCTTTTTTCAACAAATAAAAAGCTAAAATCTATTATTAATCTGTTCAGCAATCGGGCGCGATTGCTGAATAAAAGATACGAGAGACCTCTCTTGTATCTTTTTTATTTTGAGTGGTTTTGTCCGTT\n"
     ]
    }
   ],
   "source": [
    "#get sequence itself\n",
    "\n",
    "sequence=seq_object.seq\n",
    "print(sequence)"
   ]
  },
  {
   "cell_type": "code",
   "execution_count": 15,
   "id": "ancient-disney",
   "metadata": {},
   "outputs": [
    {
     "name": "stdout",
     "output_type": "stream",
     "text": [
      "605\n"
     ]
    }
   ],
   "source": [
    "#get the sequence length\n",
    "\n",
    "length=len(sequence)\n",
    "print(length)"
   ]
  },
  {
   "cell_type": "code",
   "execution_count": 16,
   "id": "eligible-vision",
   "metadata": {},
   "outputs": [
    {
     "name": "stdout",
     "output_type": "stream",
     "text": [
      "TTGCCTGTTTTGGTGAGTTTTATTTTTTCTATGTTCTCTCCAGAGAGCATAGAAAATAAGTCGTTAGCGCGGGCTAACGACTTGTCTAATTATTATCTAAAATCGAAAAATAAACAACTTTTTTCGATTAGTTTAACAACAGCCCTAGTTAATGACGTTTCAGAGCAAGTAGGGTGGTGACTAGAAAATTACTACATAACCCCACGTTTTACGGGTTTCCGAATTATACAACTATATTAAGTAGTTAAGGGAGATGAAGTTACGCCGTTGATCGTCATGGTCGTTATTTGCTGAGGCGTGGACATGTTTGGCCACTTAGTAATGATGCTCTCGCGGTCGGAAGTAGTGAACGGAGGGTATCTACTTAGGCTTGGAGTAATGTGTAATCTTGACGCTTAGGTAGAAGTACCACTTGGTTTCACTTTGGATCAAATAGCGTTATTTTTGGATATGAGAAAAATTATAGGGGCTGACCGTTACGGCCCTATCTGACATTGTAAGAGTGCGTATTTTAGGGGAAAGTAAAAGATTACATTTAGATAATGGAATAATAATTAAGTTAAGCGAGTATTAATTAGGAAAAAGAATAATGCGTTTTACCGGGC\n"
     ]
    }
   ],
   "source": [
    "#get reverse of the sequence\n",
    "\n",
    "reverse=sequence[::-1]\n",
    "print(reverse)"
   ]
  },
  {
   "cell_type": "code",
   "execution_count": 17,
   "id": "danish-ranch",
   "metadata": {},
   "outputs": [
    {
     "name": "stdout",
     "output_type": "stream",
     "text": [
      "RAILRNKKKD*L*AN*INNKVIDLH*KMKGDFMRENVTVYPGIASRGY*KEYRFLLR*TRFHFGSP*RWIRSSNV**GSDSSMGGK**RLALS***FTGLYRCGVVYCWYC*LPH*SRGN**IISTY*AFGHFAPQYIIKRSVVG*TRLCSN*SRQQFD*LFSTNKKLKSIINLFSNRARLLNKRYERPLLYLFYFEWFCP\n"
     ]
    },
    {
     "name": "stderr",
     "output_type": "stream",
     "text": [
      "/home/kobina/.local/lib/python3.6/site-packages/Bio/Seq.py:2338: BiopythonWarning: Partial codon, len(sequence) not a multiple of three. Explicitly trim the sequence or add trailing N before translation. This may become an error in future.\n",
      "  BiopythonWarning,\n"
     ]
    }
   ],
   "source": [
    "#perform translation on the sequence. genetic code 11 is used because it is a bacterial sequence\n",
    "translate=sequence.translate(table=11)\n",
    "print(translate)"
   ]
  },
  {
   "cell_type": "code",
   "execution_count": 18,
   "id": "affiliated-sessions",
   "metadata": {},
   "outputs": [
    {
     "name": "stdout",
     "output_type": "stream",
     "text": [
      "CGGGCCATTTTGCGTAATAA\n"
     ]
    }
   ],
   "source": [
    "#get first 20 nucleotides\n",
    "\n",
    "first20=sequence[0:20]\n",
    "print(first20)"
   ]
  },
  {
   "cell_type": "code",
   "execution_count": null,
   "id": "limiting-drilling",
   "metadata": {},
   "outputs": [],
   "source": []
  },
  {
   "cell_type": "markdown",
   "id": "gentle-mileage",
   "metadata": {},
   "source": [
    "## Read Multi-fasta files"
   ]
  },
  {
   "cell_type": "markdown",
   "id": "judicial-bread",
   "metadata": {},
   "source": [
    "- A **multi-fasta** file contains two or more sequence records\n",
    "- This can be read using the **biopython** package\n",
    "- Using iterations ( **for/while loops**), analysis can be done on all or some of the sequences \n",
    "- When working with several sequences, the results of the analysis can be better organized using **pandas** library\n",
    "\n",
    "- Python libraries for this tutorial\n",
    "     - **biopython**\n",
    "     - **pandas**     "
   ]
  },
  {
   "cell_type": "code",
   "execution_count": null,
   "id": "floral-rebel",
   "metadata": {},
   "outputs": [],
   "source": []
  },
  {
   "cell_type": "code",
   "execution_count": 15,
   "id": "conventional-indonesian",
   "metadata": {},
   "outputs": [],
   "source": [
    "#import python libraries to be used\n",
    "\n",
    "from Bio import SeqIO\n",
    "import pandas \n",
    "import os"
   ]
  },
  {
   "cell_type": "code",
   "execution_count": 16,
   "id": "average-farmer",
   "metadata": {},
   "outputs": [],
   "source": [
    "#set file path\n",
    "\n",
    "filepath='/home/user/Desktop/multi-fasta.fa'"
   ]
  },
  {
   "cell_type": "code",
   "execution_count": 17,
   "id": "generous-sense",
   "metadata": {},
   "outputs": [],
   "source": [
    "#read the multi-fasta file\n",
    "\n",
    "seq_objects=SeqIO.parse(filepath,'fasta')\n",
    "\n",
    "sequences=[]\n",
    "for seq in seq_objects:\n",
    "    sequences.append(seq)\n"
   ]
  },
  {
   "cell_type": "code",
   "execution_count": 18,
   "id": "peaceful-backing",
   "metadata": {},
   "outputs": [
    {
     "data": {
      "text/plain": [
       "5"
      ]
     },
     "execution_count": 18,
     "metadata": {},
     "output_type": "execute_result"
    }
   ],
   "source": [
    "#get total number of records in the multi-fasta file\n",
    "\n",
    "len(sequences)"
   ]
  },
  {
   "cell_type": "code",
   "execution_count": 19,
   "id": "twelve-venture",
   "metadata": {},
   "outputs": [],
   "source": [
    "#get the first record\n",
    "\n",
    "first_record=sequences[0]"
   ]
  },
  {
   "cell_type": "code",
   "execution_count": 20,
   "id": "comparable-triumph",
   "metadata": {},
   "outputs": [
    {
     "data": {
      "text/plain": [
       "'CP029082.1'"
      ]
     },
     "execution_count": 20,
     "metadata": {},
     "output_type": "execute_result"
    }
   ],
   "source": [
    "#ID of first record\n",
    "\n",
    "print(first_record.id)"
   ]
  },
  {
   "cell_type": "code",
   "execution_count": 22,
   "id": "ideal-finnish",
   "metadata": {},
   "outputs": [
    {
     "data": {
      "text/plain": [
       "'CP029082.1'"
      ]
     },
     "execution_count": 22,
     "metadata": {},
     "output_type": "execute_result"
    }
   ],
   "source": [
    "#name of first record\n",
    "\n",
    "print(first_record.name)"
   ]
  },
  {
   "cell_type": "code",
   "execution_count": 23,
   "id": "framed-baptist",
   "metadata": {},
   "outputs": [
    {
     "data": {
      "text/plain": [
       "'CP029082.1 Staphylococcus aureus strain AR465 chromosome, complete genome'"
      ]
     },
     "execution_count": 23,
     "metadata": {},
     "output_type": "execute_result"
    }
   ],
   "source": [
    "#get description of first record\n",
    "\n",
    "first_record.description"
   ]
  },
  {
   "cell_type": "code",
   "execution_count": 24,
   "id": "homeless-closing",
   "metadata": {},
   "outputs": [],
   "source": [
    "#get sequence of first record\n",
    "\n",
    "first_sequence=first_record.seq"
   ]
  },
  {
   "cell_type": "code",
   "execution_count": 25,
   "id": "choice-helena",
   "metadata": {},
   "outputs": [
    {
     "data": {
      "text/plain": [
       "2911287"
      ]
     },
     "execution_count": 25,
     "metadata": {},
     "output_type": "execute_result"
    }
   ],
   "source": [
    "#length of sequence of the first record\n",
    "\n",
    "len(first_sequence)"
   ]
  },
  {
   "cell_type": "code",
   "execution_count": 29,
   "id": "satisfactory-closure",
   "metadata": {},
   "outputs": [
    {
     "name": "stdout",
     "output_type": "stream",
     "text": [
      "CP029082.1 2911287\n",
      "CP030138.1 3050015\n",
      "CP039157.1 2970728\n",
      "CP039167.1 2866643\n",
      "CP013957.1 3085555\n"
     ]
    }
   ],
   "source": [
    "#using loops to find the record id and record sequence of all the five(5) records in the \n",
    "#multi-fasta file\n",
    "\n",
    "for record in sequences:\n",
    "    seq_id=record.id\n",
    "    sequence=record.seq\n",
    "    length=len(sequence)\n",
    "    print(seq_id,length)"
   ]
  },
  {
   "cell_type": "code",
   "execution_count": 30,
   "id": "hearing-border",
   "metadata": {},
   "outputs": [],
   "source": [
    "#Create Pandas Data Frame to save the results.\n",
    "#Pandas dataframe is a great way to organize your data and analysis result\n",
    "#begin by creating empty lists which will be used to store sequence ids and lengths\n",
    "\n",
    "seq_ids=[]\n",
    "seq_lengths=[]"
   ]
  },
  {
   "cell_type": "code",
   "execution_count": 31,
   "id": "driving-playback",
   "metadata": {},
   "outputs": [
    {
     "name": "stdout",
     "output_type": "stream",
     "text": [
      "analysis complete\n",
      "analysis complete\n",
      "analysis complete\n",
      "analysis complete\n",
      "analysis complete\n"
     ]
    }
   ],
   "source": [
    "#perform operation to get record ids and sequence length\n",
    "for record in sequences:\n",
    "    seq_id=record.id\n",
    "    sequence=record.seq\n",
    "    length=len(sequence)\n",
    "    \n",
    "    seq_ids.append(seq_id)\n",
    "    seq_lengths.append(length)\n",
    "    print('analysis complete')\n",
    "    "
   ]
  },
  {
   "cell_type": "code",
   "execution_count": 32,
   "id": "reasonable-bahrain",
   "metadata": {},
   "outputs": [
    {
     "name": "stdout",
     "output_type": "stream",
     "text": [
      "['CP029082.1', 'CP030138.1', 'CP039157.1', 'CP039167.1', 'CP013957.1']\n"
     ]
    }
   ],
   "source": [
    "print(seq_ids)"
   ]
  },
  {
   "cell_type": "code",
   "execution_count": 33,
   "id": "grateful-going",
   "metadata": {},
   "outputs": [
    {
     "name": "stdout",
     "output_type": "stream",
     "text": [
      "[2911287, 3050015, 2970728, 2866643, 3085555]\n"
     ]
    }
   ],
   "source": [
    "print(seq_lengths)"
   ]
  },
  {
   "cell_type": "code",
   "execution_count": 34,
   "id": "difficult-momentum",
   "metadata": {},
   "outputs": [],
   "source": [
    "#Create pandas dataframe and store the sequence ids and lengths\n",
    "\n",
    "dataframe=pd.DataFrame()\n",
    "dataframe['Seq_Id']=seq_ids\n",
    "dataframe['Seq_Length']=seq_lengths"
   ]
  },
  {
   "cell_type": "code",
   "execution_count": 35,
   "id": "determined-optimization",
   "metadata": {},
   "outputs": [
    {
     "data": {
      "text/html": [
       "<div>\n",
       "<style scoped>\n",
       "    .dataframe tbody tr th:only-of-type {\n",
       "        vertical-align: middle;\n",
       "    }\n",
       "\n",
       "    .dataframe tbody tr th {\n",
       "        vertical-align: top;\n",
       "    }\n",
       "\n",
       "    .dataframe thead th {\n",
       "        text-align: right;\n",
       "    }\n",
       "</style>\n",
       "<table border=\"1\" class=\"dataframe\">\n",
       "  <thead>\n",
       "    <tr style=\"text-align: right;\">\n",
       "      <th></th>\n",
       "      <th>Seq_Id</th>\n",
       "      <th>Seq_Length</th>\n",
       "    </tr>\n",
       "  </thead>\n",
       "  <tbody>\n",
       "    <tr>\n",
       "      <th>0</th>\n",
       "      <td>CP029082.1</td>\n",
       "      <td>2911287</td>\n",
       "    </tr>\n",
       "    <tr>\n",
       "      <th>1</th>\n",
       "      <td>CP030138.1</td>\n",
       "      <td>3050015</td>\n",
       "    </tr>\n",
       "    <tr>\n",
       "      <th>2</th>\n",
       "      <td>CP039157.1</td>\n",
       "      <td>2970728</td>\n",
       "    </tr>\n",
       "    <tr>\n",
       "      <th>3</th>\n",
       "      <td>CP039167.1</td>\n",
       "      <td>2866643</td>\n",
       "    </tr>\n",
       "    <tr>\n",
       "      <th>4</th>\n",
       "      <td>CP013957.1</td>\n",
       "      <td>3085555</td>\n",
       "    </tr>\n",
       "  </tbody>\n",
       "</table>\n",
       "</div>"
      ],
      "text/plain": [
       "       Seq_Id  Seq_Length\n",
       "0  CP029082.1     2911287\n",
       "1  CP030138.1     3050015\n",
       "2  CP039157.1     2970728\n",
       "3  CP039167.1     2866643\n",
       "4  CP013957.1     3085555"
      ]
     },
     "execution_count": 35,
     "metadata": {},
     "output_type": "execute_result"
    }
   ],
   "source": [
    "dataframe.head()\n"
   ]
  },
  {
   "cell_type": "code",
   "execution_count": 36,
   "id": "overall-toner",
   "metadata": {},
   "outputs": [],
   "source": [
    "#save dataframe to outputfile\n",
    "\n",
    "outdir='/home/user/Desktop'\n",
    "os.chdir(outdir)"
   ]
  },
  {
   "cell_type": "code",
   "execution_count": 37,
   "id": "stopped-appeal",
   "metadata": {},
   "outputs": [],
   "source": [
    "dataframe.to_csv('sequence_analysis.csv',index=False)"
   ]
  },
  {
   "cell_type": "code",
   "execution_count": null,
   "id": "descending-faculty",
   "metadata": {},
   "outputs": [],
   "source": []
  }
 ],
 "metadata": {
  "kernelspec": {
   "display_name": "Python 3",
   "language": "python",
   "name": "python3"
  },
  "language_info": {
   "codemirror_mode": {
    "name": "ipython",
    "version": 3
   },
   "file_extension": ".py",
   "mimetype": "text/x-python",
   "name": "python",
   "nbconvert_exporter": "python",
   "pygments_lexer": "ipython3",
   "version": "3.6.9"
  }
 },
 "nbformat": 4,
 "nbformat_minor": 5
}
