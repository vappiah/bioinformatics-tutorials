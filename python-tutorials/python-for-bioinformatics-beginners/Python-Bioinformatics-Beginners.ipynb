{
 "cells": [
  {
   "cell_type": "markdown",
   "id": "bigger-inflation",
   "metadata": {},
   "source": [
    "# Python for Bioinformatics"
   ]
  },
  {
   "cell_type": "markdown",
   "id": "46bb72ef-88a1-4b05-8fea-091afc5b67df",
   "metadata": {},
   "source": [
    "Python is one of the popular programming languages available. Due to its English-like syntax, it is very easy to learn. It is used in several domains including Bioinformatics. In this tutorial, you will be introduced to Python through a series of simple tasks. \\\n",
    "Good luck!!!!!!!!!!!"
   ]
  },
  {
   "cell_type": "markdown",
   "id": "c4212026-6979-4b55-a42d-27e620871e8c",
   "metadata": {},
   "source": [
    "## Let's get Started "
   ]
  },
  {
   "cell_type": "markdown",
   "id": "0111b13a-1932-4d87-b0f6-8314de99b616",
   "metadata": {},
   "source": [
    "### Displaying information on the screen.\n",
    "One of things we always do in programming is displaying information on the screen.\n",
    "We use the **print** function to it. Lets try with some examples.\n"
   ]
  },
  {
   "cell_type": "code",
   "execution_count": null,
   "id": "6df30eb1-39f0-41e0-8376-221438c9fd7c",
   "metadata": {},
   "outputs": [],
   "source": [
    "#Display the text hello world on the screen\n",
    "print('Hello world')"
   ]
  },
  {
   "cell_type": "code",
   "execution_count": null,
   "id": "caeaa8b2-885b-45d4-860e-c5d166f1db02",
   "metadata": {},
   "outputs": [],
   "source": [
    "#Display the number 1\n",
    "print(1)"
   ]
  },
  {
   "cell_type": "markdown",
   "id": "c0b17417-e8ad-407e-a58f-62e9538177f6",
   "metadata": {},
   "source": [
    "### Assignment\n",
    "This is where we assign values to a variable . We use the **equal sign(=)** to do this. Lets try with some examples."
   ]
  },
  {
   "cell_type": "code",
   "execution_count": null,
   "id": "1061988e-8cf6-4975-8a2c-b56ac2465e5d",
   "metadata": {},
   "outputs": [],
   "source": [
    "# Assign the value 20 to a variable called mynumber\n",
    "mynumber=20"
   ]
  },
  {
   "cell_type": "code",
   "execution_count": null,
   "id": "1e956f0a-0a88-406d-920e-8adb88de65be",
   "metadata": {},
   "outputs": [],
   "source": [
    "#Print to a screeen\n",
    "print(mynumber)"
   ]
  },
  {
   "cell_type": "code",
   "execution_count": null,
   "id": "0fe43194-d688-4f2b-b0f0-e9a1430680b5",
   "metadata": {},
   "outputs": [],
   "source": [
    "#You can also print the value directly\n",
    "print(20)"
   ]
  },
  {
   "cell_type": "markdown",
   "id": "4ba88bf1-8798-44ab-99cd-ee7478b1ca48",
   "metadata": {},
   "source": [
    "### Comments\n",
    "Comments are simply lines that are not considered to be codes(or instructions to be executed). \\\n",
    "Comments are lines that begin with the **#**. You have earlier seen some lines beginning with **#**. Those are also coments. Below are some examples. \\"
   ]
  },
  {
   "cell_type": "code",
   "execution_count": null,
   "id": "71f94c7d-4e97-4f91-badd-94a51c4ee2eb",
   "metadata": {},
   "outputs": [],
   "source": [
    "#Example of a comment\n",
    "#print\n",
    "#line"
   ]
  },
  {
   "cell_type": "code",
   "execution_count": null,
   "id": "ecfdae2f-4a56-4160-ba7a-260aa9a338d1",
   "metadata": {},
   "outputs": [],
   "source": []
  },
  {
   "cell_type": "markdown",
   "id": "226b2f24-632f-461c-8b2c-01545aa9cae0",
   "metadata": {},
   "source": [
    "# DataTypes"
   ]
  },
  {
   "cell_type": "code",
   "execution_count": null,
   "id": "b16ca9b2-1163-45ab-b12e-452d1f7b838c",
   "metadata": {},
   "outputs": [],
   "source": []
  },
  {
   "cell_type": "markdown",
   "id": "b6baadcd-4f07-4239-8b36-8a030d3be504",
   "metadata": {},
   "source": [
    "Data types refer to the various ways in which data or information is stored. In this tutorial, we will look at four(4) basic data types.\\\n",
    " -Integers \\\n",
    " -Floats \\\n",
    " -Strings \\\n",
    " -Lists "
   ]
  },
  {
   "cell_type": "markdown",
   "id": "60cfaf33-93b3-469d-8a1b-1f041c63a23b",
   "metadata": {},
   "source": [
    "## Integers\n",
    "Integers are zero,positive and negative whole numbers. Lets try some examples"
   ]
  },
  {
   "cell_type": "code",
   "execution_count": null,
   "id": "9a477e3e-e4a3-4304-b018-fb254633a5e0",
   "metadata": {},
   "outputs": [],
   "source": [
    "myinteger=1\n",
    "print(myinteger)"
   ]
  },
  {
   "cell_type": "code",
   "execution_count": null,
   "id": "056f3a4b-159c-4967-9f95-5441ee85a9eb",
   "metadata": {},
   "outputs": [],
   "source": [
    "myage=22\n",
    "print(myage)"
   ]
  },
  {
   "cell_type": "code",
   "execution_count": null,
   "id": "024caf9d-ae75-4b0a-8d9f-14d0f60ce65a",
   "metadata": {
    "scrolled": true
   },
   "outputs": [],
   "source": [
    "number_of_participants=10\n",
    "print(number_of_participants)"
   ]
  },
  {
   "cell_type": "markdown",
   "id": "6bcf1e97-1e3d-4131-8e12-82d8320d5433",
   "metadata": {},
   "source": [
    "#### Exercise\n",
    "1. Create and assign the integer value 30 to a variable called mynumber/\n",
    "2. Use the print function to display the integer 45 on the screen."
   ]
  },
  {
   "cell_type": "code",
   "execution_count": null,
   "id": "a2d94511-ed2c-4944-85c7-06499a6a32b8",
   "metadata": {},
   "outputs": [],
   "source": []
  },
  {
   "cell_type": "markdown",
   "id": "6d7ef45c-d4f9-44b0-a668-58a627adbb34",
   "metadata": {},
   "source": [
    "## Floats\n",
    "Floats are decimal or fractional numbers. Lets try some examples."
   ]
  },
  {
   "cell_type": "code",
   "execution_count": null,
   "id": "2836f4bd-6a48-4132-867b-7262513cf5e4",
   "metadata": {},
   "outputs": [],
   "source": [
    "#create your first float number\n",
    "myfloat=0.2"
   ]
  },
  {
   "cell_type": "code",
   "execution_count": null,
   "id": "a89c1da2-5bf8-4ecf-81a0-eef76150cbb2",
   "metadata": {},
   "outputs": [],
   "source": [
    "#print\n",
    "print(myfloat)"
   ]
  },
  {
   "cell_type": "code",
   "execution_count": null,
   "id": "dbfcf45f-b321-44a0-a7d1-4140bea1a73a",
   "metadata": {},
   "outputs": [],
   "source": [
    "#another example\n",
    "myfloat2=2.1\n",
    "print(myfloat)"
   ]
  },
  {
   "cell_type": "markdown",
   "id": "fa8ac5f1-4969-4d5f-8eec-f37e48368c5a",
   "metadata": {},
   "source": [
    "#### Exercise\n",
    "1. Create 3 different variables and assign different float values to them.\n",
    "2. Print the float variables on the screen using the print function\n"
   ]
  },
  {
   "cell_type": "code",
   "execution_count": null,
   "id": "638bc3db-8c39-456f-beeb-74face3e7604",
   "metadata": {},
   "outputs": [],
   "source": []
  },
  {
   "cell_type": "markdown",
   "id": "24005ea5",
   "metadata": {},
   "source": [
    "## STRINGS"
   ]
  },
  {
   "cell_type": "markdown",
   "id": "uniform-paper",
   "metadata": {},
   "source": [
    "A string is a sequence of characters. \n",
    "Strings are often enclosed in single('') or double(\"\") quotes."
   ]
  },
  {
   "cell_type": "markdown",
   "id": "matched-liabilities",
   "metadata": {},
   "source": [
    "#### Example"
   ]
  },
  {
   "cell_type": "code",
   "execution_count": null,
   "id": "a78ac45a-2ce9-4511-b55a-0464fac35341",
   "metadata": {},
   "outputs": [],
   "source": [
    "#create a string with the word Bioinformatics\n",
    "mystring=\"Bioinformatics\""
   ]
  },
  {
   "cell_type": "code",
   "execution_count": null,
   "id": "52139331",
   "metadata": {},
   "outputs": [],
   "source": [
    "#display/print on screen\n",
    "print(mystring)"
   ]
  },
  {
   "cell_type": "code",
   "execution_count": null,
   "id": "3cd2e9c1",
   "metadata": {},
   "outputs": [],
   "source": [
    "#you can also print the string directly without assigning to a variable\n",
    "print(\"Bioinformatics\")"
   ]
  },
  {
   "cell_type": "code",
   "execution_count": null,
   "id": "c45d78e8",
   "metadata": {},
   "outputs": [],
   "source": [
    "#create a sequence\n",
    "mydna='AGTCAGTA'"
   ]
  },
  {
   "cell_type": "code",
   "execution_count": null,
   "id": "7125a22c",
   "metadata": {},
   "outputs": [],
   "source": [
    "#print the sequence\n",
    "print(mydna)"
   ]
  },
  {
   "cell_type": "markdown",
   "id": "6614b0f4-99ae-47f2-854f-4735121a0775",
   "metadata": {},
   "source": [
    "#### Exercise\n",
    "1. Create a string using your First and Last Names.\n",
    "2. Display your first and Last Names using the print command.\n"
   ]
  },
  {
   "cell_type": "code",
   "execution_count": null,
   "id": "99c773d6-9097-481c-9d63-dfeb90f2295f",
   "metadata": {},
   "outputs": [],
   "source": []
  },
  {
   "cell_type": "markdown",
   "id": "biblical-title",
   "metadata": {},
   "source": [
    "### Change the case of strings\n",
    "When changing the case of strings, we use **lower()** or **upper()** function. Lets try an example"
   ]
  },
  {
   "cell_type": "code",
   "execution_count": null,
   "id": "eab0967e",
   "metadata": {},
   "outputs": [],
   "source": [
    "#change  Bioinformatics to lowercase\n",
    "mystring=\"Bioinformatics\"\n",
    "mystring.lower()"
   ]
  },
  {
   "cell_type": "code",
   "execution_count": null,
   "id": "22eaa3f1",
   "metadata": {},
   "outputs": [],
   "source": [
    "mystring2='HELLO WORLD'\n",
    "mystring2.lower()"
   ]
  },
  {
   "cell_type": "code",
   "execution_count": null,
   "id": "3a9b9a3b",
   "metadata": {},
   "outputs": [],
   "source": [
    "'AGTCAG'.lower()"
   ]
  },
  {
   "cell_type": "code",
   "execution_count": null,
   "id": "2a4cfbb3",
   "metadata": {},
   "outputs": [],
   "source": [
    "#Try with a DNA sequence\n",
    "DNA='atgaca'\n",
    "DNA.upper()"
   ]
  },
  {
   "cell_type": "code",
   "execution_count": null,
   "id": "aeddd1f5",
   "metadata": {},
   "outputs": [],
   "source": [
    "'bioinformatics'.upper()"
   ]
  },
  {
   "cell_type": "code",
   "execution_count": null,
   "id": "3f9ae417",
   "metadata": {},
   "outputs": [],
   "source": [
    "#Change the first letter to uppercase\n",
    "myname='bioinformatics'\n",
    "myname.capitalize()"
   ]
  },
  {
   "cell_type": "markdown",
   "id": "3670b503-723e-4cca-9269-dc91bddeae3c",
   "metadata": {},
   "source": [
    "#### Exercise\n",
    "1. Convert the DNA sequence atagagagatat into an uppercase. \n",
    "2. Write a code to capitalize the name \"ameenah\""
   ]
  },
  {
   "cell_type": "markdown",
   "id": "3364994a",
   "metadata": {},
   "source": [
    "### Find the length of strings/sequences\n",
    "To find the length of strings we use the **len** function"
   ]
  },
  {
   "cell_type": "code",
   "execution_count": null,
   "id": "3638a12b",
   "metadata": {},
   "outputs": [],
   "source": [
    "mystring='Hello World'\n",
    "len(mystring)"
   ]
  },
  {
   "cell_type": "code",
   "execution_count": null,
   "id": "fbb6d1aa",
   "metadata": {},
   "outputs": [],
   "source": [
    "DNA='AGTACGA'\n",
    "len(DNA)"
   ]
  },
  {
   "cell_type": "code",
   "execution_count": null,
   "id": "25b37f3d",
   "metadata": {},
   "outputs": [],
   "source": [
    "DNA=\"GAGTTCATCCAGATTCGTCATTGTGCACGTGATTTAAGGCGCTTCCAGTAGGCCCGAGGTTGTTGCTAGGGTGCGGCACAATCCGCTACT\""
   ]
  },
  {
   "cell_type": "code",
   "execution_count": null,
   "id": "5f6edb84",
   "metadata": {},
   "outputs": [],
   "source": [
    "len(DNA)"
   ]
  },
  {
   "cell_type": "code",
   "execution_count": null,
   "id": "0b972629",
   "metadata": {},
   "outputs": [],
   "source": [
    "length_of_sequence=len(DNA)"
   ]
  },
  {
   "cell_type": "code",
   "execution_count": null,
   "id": "2a407a78",
   "metadata": {},
   "outputs": [],
   "source": [
    "print(length_of_sequence)"
   ]
  },
  {
   "cell_type": "markdown",
   "id": "5c9b35a3",
   "metadata": {},
   "source": [
    "### Count the number of characters/substrings \n",
    "In this case, we use the function **count()** function. Lets try an example"
   ]
  },
  {
   "cell_type": "code",
   "execution_count": null,
   "id": "5ad7b628",
   "metadata": {},
   "outputs": [],
   "source": [
    "mystring='Bioinformatics'"
   ]
  },
  {
   "cell_type": "code",
   "execution_count": null,
   "id": "d913cdea",
   "metadata": {},
   "outputs": [],
   "source": [
    "#count the number of occurence of the letter o\n",
    "mystring.count('o')"
   ]
  },
  {
   "cell_type": "code",
   "execution_count": null,
   "id": "2e7bafa1",
   "metadata": {},
   "outputs": [],
   "source": [
    "#try with a DNA sequence\n",
    "DNA='AGTCATAGAAGG'"
   ]
  },
  {
   "cell_type": "code",
   "execution_count": null,
   "id": "c32126ae",
   "metadata": {},
   "outputs": [],
   "source": [
    "#count the number of As\n",
    "DNA.count('A')"
   ]
  },
  {
   "cell_type": "code",
   "execution_count": null,
   "id": "61642911",
   "metadata": {},
   "outputs": [],
   "source": [
    "#count the number Gs\n",
    "DNA.count('G')"
   ]
  },
  {
   "cell_type": "markdown",
   "id": "af4741ac-ddef-44e9-9250-8ab7ebb4d96c",
   "metadata": {},
   "source": [
    "### Exercise\n",
    "You have been given the DNA sequence 'GAGACCATAGGGA'\n",
    "1. How many C<sub>s</sub> are in the sequence.\n",
    "2. How may T<sub>s</sub> are in the sequence."
   ]
  },
  {
   "cell_type": "markdown",
   "id": "3e97a765-6af5-464f-b486-04492097c0f9",
   "metadata": {},
   "source": [
    "## Arithmetic Operators\n",
    "These are symbols that are used in performing mathematical operations. "
   ]
  },
  {
   "cell_type": "markdown",
   "id": "1ce714e2-3687-490a-8399-cf4bb3ced688",
   "metadata": {},
   "source": [
    "| Symbol  | Meaning | Example |\n",
    "| ------  | ------- | -------- |\n",
    "| +       | addition |  1+1 |\n",
    "| - | subtraction | 5-2 |\n",
    "| / | division | 4/2  or 4//2 |\n",
    "| * | multiplication | 2 *2  | \n",
    "| ** | exponent | 2^^2 |\n",
    "| % | modulo | 5%2 |\n"
   ]
  },
  {
   "cell_type": "markdown",
   "id": "d718b21e-e449-4955-91d0-ae3eefba00bc",
   "metadata": {},
   "source": [
    "## Mathematical operations"
   ]
  },
  {
   "cell_type": "code",
   "execution_count": null,
   "id": "45eba7a1-bf3b-44cc-a827-b1bcc7411839",
   "metadata": {},
   "outputs": [],
   "source": [
    "#addition\n",
    "value1=10\n",
    "value2=5\n",
    "total=value1+value2"
   ]
  },
  {
   "cell_type": "code",
   "execution_count": null,
   "id": "be42dd8d-180e-42e7-9bc0-665b78f8273d",
   "metadata": {},
   "outputs": [],
   "source": [
    "#print the total on the screen using the print function\n",
    "#.........code.............here\n"
   ]
  },
  {
   "cell_type": "code",
   "execution_count": null,
   "id": "f90e6942-0cad-4f54-8b0a-ff10f20b2128",
   "metadata": {},
   "outputs": [],
   "source": []
  },
  {
   "cell_type": "code",
   "execution_count": null,
   "id": "6d7edd30-2481-472a-b351-a06981ef14f4",
   "metadata": {},
   "outputs": [],
   "source": []
  },
  {
   "cell_type": "code",
   "execution_count": null,
   "id": "ac1beeb6-f85e-4888-acbe-86c7faea5294",
   "metadata": {},
   "outputs": [],
   "source": [
    "#subtraction\n",
    "result=8-3\n"
   ]
  },
  {
   "cell_type": "code",
   "execution_count": null,
   "id": "a715a678-3a6d-4574-b450-48867cc15768",
   "metadata": {},
   "outputs": [],
   "source": [
    "#print the result on the screen\n",
    "#.........code.............here\n"
   ]
  },
  {
   "cell_type": "code",
   "execution_count": null,
   "id": "db0dfa6d-a27e-4c0f-b6e5-966ef6b4923f",
   "metadata": {},
   "outputs": [],
   "source": []
  },
  {
   "cell_type": "code",
   "execution_count": null,
   "id": "89de4106-bf79-472c-b3a6-141d979f31ad",
   "metadata": {},
   "outputs": [],
   "source": [
    "#multiplication\n",
    "\n",
    "value1=3\n",
    "value2=5\n",
    "product=3*5"
   ]
  },
  {
   "cell_type": "code",
   "execution_count": null,
   "id": "2395bf6f-4ff4-4397-b06e-58972f3bcb4c",
   "metadata": {},
   "outputs": [],
   "source": [
    "#print the product on the screen\n",
    "#.........code.............here\n"
   ]
  },
  {
   "cell_type": "code",
   "execution_count": null,
   "id": "af500110-f208-4c7e-86c9-5bcd1aff4966",
   "metadata": {},
   "outputs": [],
   "source": []
  },
  {
   "cell_type": "code",
   "execution_count": null,
   "id": "38556412-096b-48c0-8412-c37d68cd755d",
   "metadata": {},
   "outputs": [],
   "source": [
    "#division 1\n",
    "\n",
    "division_result=17/2"
   ]
  },
  {
   "cell_type": "code",
   "execution_count": null,
   "id": "c39c2fb8-abcf-4f13-8885-f0be1d4bdcae",
   "metadata": {},
   "outputs": [],
   "source": [
    "#division 2\n",
    "\n",
    "division_result2= 17//2"
   ]
  },
  {
   "cell_type": "code",
   "execution_count": null,
   "id": "5c9a44c8-8004-47b7-97ac-bbe96ad83668",
   "metadata": {},
   "outputs": [],
   "source": []
  },
  {
   "cell_type": "code",
   "execution_count": null,
   "id": "ce685368-3824-46b0-a8e5-7f77f98ab9d4",
   "metadata": {},
   "outputs": [],
   "source": []
  },
  {
   "cell_type": "markdown",
   "id": "c1578864-0d56-45cf-84cf-fc3fd365c64c",
   "metadata": {},
   "source": [
    "### Sequence Analysis\n",
    "In this section we will what we have learnt to do get some information from a DNA sequence"
   ]
  },
  {
   "cell_type": "code",
   "execution_count": null,
   "id": "86147603-d73d-4415-a4da-cd46dfba913f",
   "metadata": {},
   "outputs": [],
   "source": []
  },
  {
   "cell_type": "code",
   "execution_count": null,
   "id": "159aede4-938b-4688-ab72-503685262aff",
   "metadata": {},
   "outputs": [],
   "source": [
    "# Create a DNA sequence\n",
    "DNA='AGTACCTAAAGCCAT'"
   ]
  },
  {
   "cell_type": "code",
   "execution_count": null,
   "id": "c1b77b22-dd51-4747-9c80-c45f219b5eb9",
   "metadata": {},
   "outputs": [],
   "source": [
    "#get the number of G"
   ]
  },
  {
   "cell_type": "code",
   "execution_count": null,
   "id": "921ea9f2",
   "metadata": {},
   "outputs": [],
   "source": [
    "gcount=DNA.count('G')"
   ]
  },
  {
   "cell_type": "code",
   "execution_count": null,
   "id": "ac526ece-aaee-4a6a-bd71-8eeeeb5945d5",
   "metadata": {},
   "outputs": [],
   "source": [
    "ccount=DNA.count('C')"
   ]
  },
  {
   "cell_type": "code",
   "execution_count": null,
   "id": "d9b0be56-e683-49c5-8fa2-d86a4473d60d",
   "metadata": {},
   "outputs": [],
   "source": [
    "#get GC content\n",
    "gc=gcount+ccount"
   ]
  },
  {
   "cell_type": "code",
   "execution_count": null,
   "id": "dbadf34e",
   "metadata": {},
   "outputs": [],
   "source": [
    "print(gc)"
   ]
  },
  {
   "cell_type": "code",
   "execution_count": null,
   "id": "cdce8480",
   "metadata": {},
   "outputs": [],
   "source": [
    "#get length of sequence\n",
    "length=len(DNA)"
   ]
  },
  {
   "cell_type": "code",
   "execution_count": null,
   "id": "42ecff61",
   "metadata": {},
   "outputs": [],
   "source": [
    "#get percentage GC\n",
    "gc/length * 100"
   ]
  },
  {
   "cell_type": "code",
   "execution_count": null,
   "id": "9f1deb61",
   "metadata": {},
   "outputs": [],
   "source": [
    "(gc/length)*100"
   ]
  },
  {
   "cell_type": "code",
   "execution_count": null,
   "id": "858c908e",
   "metadata": {},
   "outputs": [],
   "source": [
    "percentage_gc=(gc/length)*100"
   ]
  },
  {
   "cell_type": "code",
   "execution_count": null,
   "id": "86faaf21",
   "metadata": {},
   "outputs": [],
   "source": [
    "print(percentage_gc)"
   ]
  },
  {
   "cell_type": "code",
   "execution_count": null,
   "id": "15a58157",
   "metadata": {},
   "outputs": [],
   "source": [
    "print('Percentage GC is ',percentage_gc)"
   ]
  },
  {
   "cell_type": "code",
   "execution_count": null,
   "id": "aa41290e-8820-468c-a9dc-ec17ba83ab37",
   "metadata": {},
   "outputs": [],
   "source": []
  },
  {
   "cell_type": "markdown",
   "id": "ea37d93f-ac82-4c9d-933b-0bb83c0eb796",
   "metadata": {},
   "source": [
    "### Exercise\n",
    "Consider the DNA sequence, AGTTAGCTAGGAGGTTAGGGACC*\n",
    "1. How many nucleotides are present?\n",
    "2. Calculate the percentage GC in the sequence.\n",
    "3. How many purines are present?\n",
    "4. How many pyrimidines are present?\n",
    "5. Calculate the percentage of purines in the sequence"
   ]
  },
  {
   "cell_type": "code",
   "execution_count": null,
   "id": "d6ad22fb",
   "metadata": {},
   "outputs": [],
   "source": []
  },
  {
   "cell_type": "markdown",
   "id": "organized-fiber",
   "metadata": {},
   "source": [
    "### Combine strings/sequences"
   ]
  },
  {
   "cell_type": "markdown",
   "id": "2f44c77d-ed45-410b-9d14-738d344368a1",
   "metadata": {},
   "source": [
    "There are multiple ways to combine strings. In this tutorial we will use two approaches."
   ]
  },
  {
   "cell_type": "code",
   "execution_count": null,
   "id": "964bf8fc",
   "metadata": {},
   "outputs": [],
   "source": [
    "#appproach1: use the '+' symbol in between the strings to be combined\n",
    "\n",
    "DNA1='AGT'\n",
    "DNA2='TTA'"
   ]
  },
  {
   "cell_type": "code",
   "execution_count": null,
   "id": "a287d776",
   "metadata": {},
   "outputs": [],
   "source": [
    "combined=DNA1+DNA2"
   ]
  },
  {
   "cell_type": "code",
   "execution_count": null,
   "id": "57de5a8e",
   "metadata": {},
   "outputs": [],
   "source": [
    "print(combined)"
   ]
  },
  {
   "cell_type": "code",
   "execution_count": null,
   "id": "372cbede",
   "metadata": {},
   "outputs": [],
   "source": [
    "firstname='Bioinformatics'\n",
    "secondname='Coach'\n",
    "fullname=firstname+secondname"
   ]
  },
  {
   "cell_type": "code",
   "execution_count": null,
   "id": "d7b38ec1",
   "metadata": {},
   "outputs": [],
   "source": [
    "print(fullname)"
   ]
  },
  {
   "cell_type": "code",
   "execution_count": null,
   "id": "11a0f32c",
   "metadata": {},
   "outputs": [],
   "source": [
    "fullname=firstname+ ' ' +secondname"
   ]
  },
  {
   "cell_type": "code",
   "execution_count": null,
   "id": "8a17cd29",
   "metadata": {},
   "outputs": [],
   "source": [
    "print(fullname)"
   ]
  },
  {
   "cell_type": "code",
   "execution_count": null,
   "id": "53d7e198",
   "metadata": {},
   "outputs": [],
   "source": []
  },
  {
   "cell_type": "code",
   "execution_count": null,
   "id": "958cd017",
   "metadata": {},
   "outputs": [],
   "source": [
    "\n",
    "#approach 2: string formatting"
   ]
  },
  {
   "cell_type": "code",
   "execution_count": null,
   "id": "19742b29",
   "metadata": {},
   "outputs": [],
   "source": [
    "firstname='Bioinformatics'\n",
    "secondname='Coach'"
   ]
  },
  {
   "cell_type": "code",
   "execution_count": null,
   "id": "c32753cc",
   "metadata": {},
   "outputs": [],
   "source": [
    "fullname='{} {}'.format(firstname,secondname)"
   ]
  },
  {
   "cell_type": "code",
   "execution_count": null,
   "id": "3e8d5dfe",
   "metadata": {},
   "outputs": [],
   "source": [
    "print(fullname)"
   ]
  },
  {
   "cell_type": "code",
   "execution_count": null,
   "id": "d8dacc59",
   "metadata": {},
   "outputs": [],
   "source": []
  },
  {
   "cell_type": "markdown",
   "id": "4f151a32",
   "metadata": {},
   "source": [
    "### Indexing and Slicing"
   ]
  },
  {
   "cell_type": "markdown",
   "id": "ef794615",
   "metadata": {},
   "source": [
    "-This is used to access substrings / characters/nucleotides by specifying an **index** or a range of indexes(**start and end**) and in some cases a **step or stride** value.\n",
    "\n",
    "**Syntax**\\\n",
    "S[m,n,s]\\\n",
    "**-S**:string/sequence\\\n",
    "**-m**:start\\\n",
    "**-n**:end\\\n",
    "**-s**:step/stride"
   ]
  },
  {
   "cell_type": "code",
   "execution_count": null,
   "id": "4863e19a",
   "metadata": {},
   "outputs": [],
   "source": [
    "DNA='AGAGTAGAAGA'"
   ]
  },
  {
   "cell_type": "code",
   "execution_count": null,
   "id": "1eb6850c",
   "metadata": {},
   "outputs": [],
   "source": [
    "DNA[2]"
   ]
  },
  {
   "cell_type": "code",
   "execution_count": null,
   "id": "381c4cc9",
   "metadata": {},
   "outputs": [],
   "source": [
    "DNA[3]"
   ]
  },
  {
   "cell_type": "code",
   "execution_count": null,
   "id": "58277cdc",
   "metadata": {},
   "outputs": [],
   "source": [
    "string1='Hello'"
   ]
  },
  {
   "cell_type": "code",
   "execution_count": null,
   "id": "cbee5676",
   "metadata": {},
   "outputs": [],
   "source": [
    "string1[2]"
   ]
  },
  {
   "cell_type": "code",
   "execution_count": null,
   "id": "5bd6601b",
   "metadata": {},
   "outputs": [],
   "source": [
    "DNA='AGAGTAGAAGA'"
   ]
  },
  {
   "cell_type": "code",
   "execution_count": null,
   "id": "b63fcb7a",
   "metadata": {},
   "outputs": [],
   "source": [
    "DNA[2:6]"
   ]
  },
  {
   "cell_type": "code",
   "execution_count": null,
   "id": "881d842f",
   "metadata": {},
   "outputs": [],
   "source": [
    "DNA[1:4]"
   ]
  },
  {
   "cell_type": "code",
   "execution_count": null,
   "id": "be3f53c4",
   "metadata": {},
   "outputs": [],
   "source": []
  },
  {
   "cell_type": "code",
   "execution_count": null,
   "id": "85aee6f2",
   "metadata": {},
   "outputs": [],
   "source": [
    "DNA='AGAGTAGAAGA'"
   ]
  },
  {
   "cell_type": "code",
   "execution_count": null,
   "id": "6ab1162c",
   "metadata": {},
   "outputs": [],
   "source": [
    "DNA[0:9:3]"
   ]
  },
  {
   "cell_type": "code",
   "execution_count": null,
   "id": "7b7959ef",
   "metadata": {},
   "outputs": [],
   "source": []
  },
  {
   "cell_type": "markdown",
   "id": "29f75cdf",
   "metadata": {},
   "source": [
    "#### Short-hand indexing"
   ]
  },
  {
   "cell_type": "markdown",
   "id": "3c756432",
   "metadata": {},
   "source": [
    "\n",
    " This is done by omitting either the first and or last index.\\\n",
    " **S[:n]** starts the slice from the beginning of the \n",
    "   sequence to the index just before n.\\\n",
    " **S[m:]** starts slice from index m to the end of the \n",
    "   sequence.\\\n",
    " **S[:]** returns a copy of the entire string/sequence\\\n",
    " **S[::-1]** returns reverse of the entire string/sequence\n"
   ]
  },
  {
   "cell_type": "code",
   "execution_count": null,
   "id": "fee21421",
   "metadata": {},
   "outputs": [],
   "source": [
    "DNA='AGAGTAGAAGT'"
   ]
  },
  {
   "cell_type": "code",
   "execution_count": null,
   "id": "ddcb4e4d",
   "metadata": {},
   "outputs": [],
   "source": [
    "DNA[:5]"
   ]
  },
  {
   "cell_type": "code",
   "execution_count": null,
   "id": "a17adc3c",
   "metadata": {},
   "outputs": [],
   "source": [
    "DNA[5:]"
   ]
  },
  {
   "cell_type": "code",
   "execution_count": null,
   "id": "95212035",
   "metadata": {},
   "outputs": [],
   "source": [
    "DNA[:]"
   ]
  },
  {
   "cell_type": "code",
   "execution_count": null,
   "id": "61248433",
   "metadata": {},
   "outputs": [],
   "source": [
    "DNA[::-1]"
   ]
  },
  {
   "cell_type": "code",
   "execution_count": null,
   "id": "dffd28a5",
   "metadata": {},
   "outputs": [],
   "source": [
    "DNA"
   ]
  },
  {
   "cell_type": "code",
   "execution_count": null,
   "id": "b185f122",
   "metadata": {},
   "outputs": [],
   "source": [
    "DNA[::-1]"
   ]
  },
  {
   "cell_type": "markdown",
   "id": "cloudy-belize",
   "metadata": {},
   "source": [
    "### More string manipulations ###"
   ]
  },
  {
   "cell_type": "markdown",
   "id": "atlantic-script",
   "metadata": {},
   "source": [
    "| Function|Action \n",
    "| :--- |:---     \n",
    "|string.find('a')|\t  Find the first position where 'a' occurs in the string\n",
    "|string.count('s')|\t  Counts how many 's' characters are in the string\n",
    "|string.lower()|\t  Copy of string with all characters converted to upper case\n",
    "|string.upper() |\t  Copy of string with all characters converted to upper case\n",
    "|string.isdigit()|\t  Checks if string contains only digits. Returns True or False\n",
    "|string.isalpha()|\t  Checks if string contains only alphabets. Returns True or False\n",
    "|string.alnum()\t|  Checks if the string contains alphanumeric characters only. Returns True or False\n",
    "|string.strip()\t|   Strips a character from both sides of the string\n",
    "|string.split()\t|   Splits the string into a list of substrings\n",
    "|string.replace('s','t')|\t   Replaces all 's' in the string with 't'\n",
    "|string.join(list)|\t   Joins all members of list into a single striing object"
   ]
  },
  {
   "cell_type": "markdown",
   "id": "polished-decade",
   "metadata": {},
   "source": [
    "### Exercise \n",
    "Consider the dna sequence, AGTTAGCTAGGAGGTTAGGGACC\n",
    "1. Which nucleotide is in the 10 th position?\n",
    "2. Write the sequences that are present in position 3 to position 9\n",
    "3. What command will you use to find which nucleotides are present from position 10-20 to the end."
   ]
  },
  {
   "cell_type": "markdown",
   "id": "8946e4d6-ca08-4498-8ec8-6de0407b50a5",
   "metadata": {},
   "source": [
    "# Lists\n",
    "\n",
    "-Lists are linear collection of items.\\\n",
    "-Lists are created by putting items inside a square bracket [ ]. \\\n",
    "eg. ['A','G','T','C']  or [1,2,3]. \\\n",
    "-Individual items are separated by commas.\\\n",
    "-Lists can contain objects of different datatypes including lists.\n",
    "eg. [1, 'A', 3.2]   or [[1,2],['A','T']]. \\\n",
    "-Items in a list are accessed using indexing.\\\n",
    "-A list is mutable, meaning its content can be changed.\\\n",
    "-New items are added to the tail (end of the list).\\\n",
    "-Iterations can be performed on lists.\\\n",
    "-If all items in a list are strings, then the entire list can be converted \n",
    " to a single string object."
   ]
  },
  {
   "cell_type": "code",
   "execution_count": null,
   "id": "3c17c5dd-31cf-47c3-b07f-4916a9604f7e",
   "metadata": {},
   "outputs": [],
   "source": [
    "#create a list with initial values\n",
    "mylist=[1,2,3]\n",
    "\n",
    "print(mylist)"
   ]
  },
  {
   "cell_type": "code",
   "execution_count": null,
   "id": "b892b11b-6619-424b-b118-e7dd692533dd",
   "metadata": {},
   "outputs": [],
   "source": [
    "#create a list with the 4 nucleotide bases\n",
    "bases=['A','T','G','C']"
   ]
  },
  {
   "cell_type": "code",
   "execution_count": null,
   "id": "1b21938f-0198-48f0-8f30-83e61d926f7e",
   "metadata": {},
   "outputs": [],
   "source": [
    "#a list of sequences\n",
    "sequences=['AGAGTTA','GAGA','AGGGA']"
   ]
  },
  {
   "cell_type": "markdown",
   "id": "cc9227cc-bef5-4401-820e-7328521f4479",
   "metadata": {
    "jp-MarkdownHeadingCollapsed": true
   },
   "source": [
    "### Exercise\n",
    "Create a list that contains at least three names.\\\n",
    "Create a list that contains at least three bioinformatics software."
   ]
  },
  {
   "cell_type": "markdown",
   "id": "4b310b5a-8278-42cd-8c69-43446a9744ad",
   "metadata": {},
   "source": [
    "### Find the number of items in a list.\n",
    "This is done using the **len** function"
   ]
  },
  {
   "cell_type": "code",
   "execution_count": null,
   "id": "ee8bc0bf-2644-4f87-a1f5-59dde00a1bed",
   "metadata": {},
   "outputs": [],
   "source": [
    "#example\n",
    "bases=['A','T','C','G']\n",
    "length=len(bases)\n",
    "print(length)"
   ]
  },
  {
   "cell_type": "code",
   "execution_count": null,
   "id": "526d7017-26fe-4ad6-9529-8388ee5dc9bb",
   "metadata": {},
   "outputs": [],
   "source": [
    "#create  your own list and find the number of items in it."
   ]
  },
  {
   "cell_type": "markdown",
   "id": "81435aea-c812-450b-b74e-1d941f6c4308",
   "metadata": {},
   "source": [
    "### Adding items to a list\n",
    "This is done using the **append** method"
   ]
  },
  {
   "cell_type": "code",
   "execution_count": null,
   "id": "94c6f65e-0450-43bd-b095-f4433477ab7f",
   "metadata": {},
   "outputs": [],
   "source": [
    "#Lets create an empty list to store a list of countries\n",
    "countries=[]\n"
   ]
  },
  {
   "cell_type": "code",
   "execution_count": null,
   "id": "9ed09d0c-f4ba-4ec0-a84b-6df96244f761",
   "metadata": {},
   "outputs": [],
   "source": [
    "#Lets add some items. eg. Tanzania\n",
    "countries.append(\"Tanzania\")"
   ]
  },
  {
   "cell_type": "code",
   "execution_count": null,
   "id": "e0353625-4d25-4734-8cb2-cfe9c116b27c",
   "metadata": {},
   "outputs": [],
   "source": []
  },
  {
   "cell_type": "markdown",
   "id": "cb555783-3fef-4c31-ba49-290ffcf6e6a3",
   "metadata": {},
   "source": [
    "#### Exercise.\n",
    "Add three more countries to the list you created. \\\n",
    "Display the list on the screen."
   ]
  },
  {
   "cell_type": "markdown",
   "id": "79d6cb77-e09a-4941-8e63-ac270acc88bb",
   "metadata": {},
   "source": [
    "### Check for the presence of items in a List\n",
    "We use the **in** keyword. \\\n",
    "True is returned if the item is present. Otherwise False is returned."
   ]
  },
  {
   "cell_type": "code",
   "execution_count": null,
   "id": "6951bd5b-2e8e-4263-a660-d214960ae857",
   "metadata": {},
   "outputs": [],
   "source": [
    "#Lets Check of the country \"Ghana\" is in the list we created.\n",
    "countries=[\"Morocco\",\"Togo\",\"Rwanda\"]\n",
    "\"Ghana\" in countries"
   ]
  },
  {
   "cell_type": "code",
   "execution_count": null,
   "id": "653ae197-b42d-4616-9bdb-d63d41836ce5",
   "metadata": {},
   "outputs": [],
   "source": []
  },
  {
   "cell_type": "markdown",
   "id": "8d5bd188-9e07-435c-8eaf-1cb9a08e7f9b",
   "metadata": {},
   "source": [
    "### Convert a list to a string\n",
    "We use the **string.join** method."
   ]
  },
  {
   "cell_type": "code",
   "execution_count": null,
   "id": "dccf0b5a-19ec-4c03-8d49-1da870f1514e",
   "metadata": {},
   "outputs": [],
   "source": [
    "#lets take a look at this list\n",
    "bases=['A','G','T','C']"
   ]
  },
  {
   "cell_type": "code",
   "execution_count": null,
   "id": "efbdae98-a610-4e8e-9bae-d51fe52065db",
   "metadata": {},
   "outputs": [],
   "source": [
    "#convert to a string\n",
    "\"\".join(bases)"
   ]
  },
  {
   "cell_type": "code",
   "execution_count": null,
   "id": "ba45e7a7-4e6b-4774-9171-0108cd318a03",
   "metadata": {},
   "outputs": [],
   "source": [
    "#try this list\n",
    "nucleotides=['G','C','C','T','T','C','A','C','A']\n",
    "#---------code......................."
   ]
  },
  {
   "cell_type": "code",
   "execution_count": null,
   "id": "8268583b-fbd0-40e6-8abd-c26b42dc842f",
   "metadata": {},
   "outputs": [],
   "source": []
  },
  {
   "cell_type": "markdown",
   "id": "fe267554-396a-4ebf-9c2e-2b6088e5b332",
   "metadata": {},
   "source": [
    "### Counting the number of occurences of an item\n",
    "We use the **count** method."
   ]
  },
  {
   "cell_type": "code",
   "execution_count": null,
   "id": "ad2d5be7-2191-4274-9c71-06055058d808",
   "metadata": {},
   "outputs": [],
   "source": [
    "#create a list of genes\n",
    "genes=[\"mecA\",\"aadD\",\"blaZ\",\"fosD\",\"mecA\",\"fosD\",\"fosD\",\"mecA\"]"
   ]
  },
  {
   "cell_type": "code",
   "execution_count": null,
   "id": "744e0ff0-0e8a-4508-afef-059f5cf949f4",
   "metadata": {},
   "outputs": [],
   "source": [
    "#lets count the number of times mecA appears in the list\n",
    "genes.count('mecA')"
   ]
  },
  {
   "cell_type": "markdown",
   "id": "c253ca13-5826-46fd-bd8a-83fabb4d14e5",
   "metadata": {},
   "source": [
    "#### Exercise\n",
    "Using the gene list created,\n",
    "1. Check if the list contains a gene called \"aac\"\n",
    "2. How many time does the gene \"blaZ\" occur?"
   ]
  },
  {
   "cell_type": "markdown",
   "id": "1e5fa4dd-19d9-4949-996d-8584f3444700",
   "metadata": {},
   "source": [
    "### Accessing items in a list (Indexing and slicing)\n",
    "-This is done by using indexing and slicing.It is similar to indexing in strings\\\n",
    "-To access an item or items we specify an **index** or a range of indexes(**start and end**) and in some cases a **step or stride** value.\n",
    "\n",
    "**Syntax**\\\n",
    "L[m,n,s]\\\n",
    "**-L**:List\\\n",
    "**-m**:start\\\n",
    "**-n**:end\\\n",
    "**-s**:step/stride"
   ]
  },
  {
   "cell_type": "code",
   "execution_count": null,
   "id": "6c9e5604-26cf-4507-a0b2-9afc6426584b",
   "metadata": {},
   "outputs": [],
   "source": [
    "#take a look at this list\n",
    "codons=['AAA','UUC','CCA','CAC']"
   ]
  },
  {
   "cell_type": "code",
   "execution_count": null,
   "id": "9c874559-4b17-47ce-a7b6-b18e7b40f886",
   "metadata": {},
   "outputs": [],
   "source": [
    "#get the 2nd codon\n",
    "codons[1]"
   ]
  },
  {
   "cell_type": "markdown",
   "id": "2ea069bb-7719-4d87-b0d4-102c3ecd094e",
   "metadata": {},
   "source": [
    "#### Negative indexing.\n",
    "This is similar to the one we covered for strings."
   ]
  },
  {
   "cell_type": "markdown",
   "id": "b38396b1-ceeb-47db-9e93-6c1fa86c79d4",
   "metadata": {},
   "source": [
    "#### Short-hand indexing\n",
    "This is similar to the one we covered for strings."
   ]
  },
  {
   "cell_type": "markdown",
   "id": "75c42416-a716-4b1f-b3f4-20b3ac32cf65",
   "metadata": {},
   "source": [
    "### Sorting a list\n",
    "We use the **sort** method"
   ]
  },
  {
   "cell_type": "code",
   "execution_count": null,
   "id": "1fddc7e6-89b6-4631-ba6f-e444e8c43089",
   "metadata": {},
   "outputs": [],
   "source": [
    "\n",
    "#sorting in ascending order\n",
    "numbers=[2,1,30,6]\n",
    "numbers.sort()"
   ]
  },
  {
   "cell_type": "code",
   "execution_count": null,
   "id": "76d9b6dd-3d7b-4a1f-a2e7-f2177f8e08b7",
   "metadata": {},
   "outputs": [],
   "source": [
    "print(numbers)"
   ]
  },
  {
   "cell_type": "code",
   "execution_count": null,
   "id": "0fa518a5-b6c5-4494-b056-c647b4fb3595",
   "metadata": {},
   "outputs": [],
   "source": [
    "#you can also use the sorted function\n",
    "mynumbers=[9,7,2,10]\n",
    "sorted(mynumbers)"
   ]
  },
  {
   "cell_type": "code",
   "execution_count": null,
   "id": "7f1c8ecf-a15d-41ca-8418-dc7871c36847",
   "metadata": {},
   "outputs": [],
   "source": [
    "#descending order\n",
    "\n",
    "numbers=[2,1,30,6]\n",
    "numbers.sort()\n",
    "numbers[::-1]"
   ]
  },
  {
   "cell_type": "code",
   "execution_count": null,
   "id": "5fc4acba-b3f3-47e4-acb9-f8bf7a805c0d",
   "metadata": {},
   "outputs": [],
   "source": [
    "#or using the sorted function\n",
    "numbers=[2,1,30,6]\n",
    "sorted(numbers,reverse=True)"
   ]
  },
  {
   "cell_type": "code",
   "execution_count": null,
   "id": "99329d7b-d00f-4ca1-b67c-e8a0dd5852e5",
   "metadata": {},
   "outputs": [],
   "source": []
  },
  {
   "cell_type": "markdown",
   "id": "9b95c454-741e-4483-8807-34a368951c6d",
   "metadata": {},
   "source": [
    "### Delete items from a list.\n",
    "There are two ways.\n",
    "1. First approach is to use **del**. This requires you to specify the index of the item.\n",
    "2. Second approach is to use the **remove** method. This requires you to specify the exact item."
   ]
  },
  {
   "cell_type": "code",
   "execution_count": null,
   "id": "1f7aced2-98d7-4742-b4c9-9e24fb843470",
   "metadata": {},
   "outputs": [],
   "source": [
    "#approach 1\n",
    "\n",
    "mylist=['gene1','gene2','gene3','gene4']\n",
    "\n",
    "#to remove gene2, we say\n",
    "del mylist[1]"
   ]
  },
  {
   "cell_type": "code",
   "execution_count": null,
   "id": "31c6cb10-211f-488c-9c08-e65030634253",
   "metadata": {},
   "outputs": [],
   "source": []
  },
  {
   "cell_type": "code",
   "execution_count": null,
   "id": "cc9eb587-b2e3-4b52-86ad-471768f19e99",
   "metadata": {},
   "outputs": [],
   "source": [
    "#approach 2\n",
    "countries=['Ghana','Togo','Zambia','Zimbabwe']\n",
    "\n",
    "#to remove Togo we have to say\n",
    "countries.remove('Togo')"
   ]
  },
  {
   "cell_type": "code",
   "execution_count": null,
   "id": "bd9cc047-3523-4619-a130-f7571836c214",
   "metadata": {},
   "outputs": [],
   "source": []
  },
  {
   "cell_type": "code",
   "execution_count": null,
   "id": "1a47a7d0-5a75-46d3-b74e-cd83215f68a6",
   "metadata": {},
   "outputs": [],
   "source": []
  },
  {
   "cell_type": "code",
   "execution_count": null,
   "id": "9ae54f98-f40a-40fb-9d4a-2bd8150f28df",
   "metadata": {},
   "outputs": [],
   "source": []
  },
  {
   "cell_type": "code",
   "execution_count": null,
   "id": "1bd89e76-8a2f-4f98-8eb3-b28fc4c6efad",
   "metadata": {},
   "outputs": [],
   "source": []
  },
  {
   "cell_type": "code",
   "execution_count": null,
   "id": "9d94c112-8f76-43ce-ba76-e47008d5dd7a",
   "metadata": {},
   "outputs": [],
   "source": []
  },
  {
   "cell_type": "code",
   "execution_count": null,
   "id": "e20a5081-c81e-4b41-bcc7-ca8e03488a95",
   "metadata": {},
   "outputs": [],
   "source": []
  },
  {
   "cell_type": "code",
   "execution_count": null,
   "id": "87b35ae5-2337-41d5-84f3-118ea6da26e7",
   "metadata": {},
   "outputs": [],
   "source": []
  },
  {
   "cell_type": "code",
   "execution_count": null,
   "id": "8d99b311-aba3-4c2c-9158-5e97d5b8f869",
   "metadata": {},
   "outputs": [],
   "source": []
  }
 ],
 "metadata": {
  "kernelspec": {
   "display_name": "Python 3 (ipykernel)",
   "language": "python",
   "name": "python3"
  },
  "language_info": {
   "codemirror_mode": {
    "name": "ipython",
    "version": 3
   },
   "file_extension": ".py",
   "mimetype": "text/x-python",
   "name": "python",
   "nbconvert_exporter": "python",
   "pygments_lexer": "ipython3",
   "version": "3.10.12"
  }
 },
 "nbformat": 4,
 "nbformat_minor": 5
}
