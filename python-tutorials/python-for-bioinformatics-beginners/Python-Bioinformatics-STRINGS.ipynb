{
 "cells": [
  {
   "cell_type": "markdown",
   "id": "bigger-inflation",
   "metadata": {},
   "source": [
    "# Python for Bioinformatics"
   ]
  },
  {
   "cell_type": "markdown",
   "id": "24005ea5",
   "metadata": {},
   "source": [
    "## STRINGS"
   ]
  },
  {
   "cell_type": "markdown",
   "id": "uniform-paper",
   "metadata": {},
   "source": [
    "A string is a sequence of characters. \n",
    "Strings are often enclosed in single('') or double(\"\") quotes."
   ]
  },
  {
   "cell_type": "markdown",
   "id": "matched-liabilities",
   "metadata": {},
   "source": [
    "### Create a string/dna sequence"
   ]
  },
  {
   "cell_type": "code",
   "execution_count": 12,
   "id": "bcdd1e16",
   "metadata": {},
   "outputs": [],
   "source": [
    "mystring=\"Bioinformatics\""
   ]
  },
  {
   "cell_type": "code",
   "execution_count": 13,
   "id": "52139331",
   "metadata": {},
   "outputs": [
    {
     "name": "stdout",
     "output_type": "stream",
     "text": [
      "Bioinformatics\n"
     ]
    }
   ],
   "source": [
    "print(mystring)"
   ]
  },
  {
   "cell_type": "code",
   "execution_count": 14,
   "id": "3cd2e9c1",
   "metadata": {},
   "outputs": [
    {
     "name": "stdout",
     "output_type": "stream",
     "text": [
      "Bioinformatics\n"
     ]
    }
   ],
   "source": [
    "print(\"Bioinformatics\")"
   ]
  },
  {
   "cell_type": "code",
   "execution_count": 15,
   "id": "39639b5a",
   "metadata": {},
   "outputs": [
    {
     "name": "stdout",
     "output_type": "stream",
     "text": [
      "hello world\n"
     ]
    }
   ],
   "source": [
    "print('hello world')"
   ]
  },
  {
   "cell_type": "code",
   "execution_count": 16,
   "id": "c45d78e8",
   "metadata": {},
   "outputs": [],
   "source": [
    "mydna='AGTCAGTA'"
   ]
  },
  {
   "cell_type": "code",
   "execution_count": 17,
   "id": "7125a22c",
   "metadata": {},
   "outputs": [
    {
     "name": "stdout",
     "output_type": "stream",
     "text": [
      "AGTCAGTA\n"
     ]
    }
   ],
   "source": [
    "print(mydna)"
   ]
  },
  {
   "cell_type": "code",
   "execution_count": null,
   "id": "65b792a2",
   "metadata": {},
   "outputs": [],
   "source": []
  },
  {
   "cell_type": "markdown",
   "id": "biblical-title",
   "metadata": {},
   "source": [
    "### Convert strings to lower or upper case"
   ]
  },
  {
   "cell_type": "code",
   "execution_count": 18,
   "id": "eab0967e",
   "metadata": {},
   "outputs": [
    {
     "data": {
      "text/plain": [
       "'bioinformatics'"
      ]
     },
     "execution_count": 18,
     "metadata": {},
     "output_type": "execute_result"
    }
   ],
   "source": [
    "mystring=\"Bioinformatics\"\n",
    "mystring.lower()"
   ]
  },
  {
   "cell_type": "code",
   "execution_count": 19,
   "id": "22eaa3f1",
   "metadata": {},
   "outputs": [
    {
     "data": {
      "text/plain": [
       "'hello world'"
      ]
     },
     "execution_count": 19,
     "metadata": {},
     "output_type": "execute_result"
    }
   ],
   "source": [
    "mystring2='HELLO WORLD'\n",
    "mystring2.lower()"
   ]
  },
  {
   "cell_type": "code",
   "execution_count": 20,
   "id": "3a9b9a3b",
   "metadata": {},
   "outputs": [
    {
     "data": {
      "text/plain": [
       "'agtcag'"
      ]
     },
     "execution_count": 20,
     "metadata": {},
     "output_type": "execute_result"
    }
   ],
   "source": [
    "'AGTCAG'.lower()"
   ]
  },
  {
   "cell_type": "code",
   "execution_count": 21,
   "id": "2a4cfbb3",
   "metadata": {},
   "outputs": [
    {
     "data": {
      "text/plain": [
       "'ATGACA'"
      ]
     },
     "execution_count": 21,
     "metadata": {},
     "output_type": "execute_result"
    }
   ],
   "source": [
    "DNA='atgaca'\n",
    "DNA.upper()"
   ]
  },
  {
   "cell_type": "code",
   "execution_count": 22,
   "id": "aeddd1f5",
   "metadata": {},
   "outputs": [
    {
     "data": {
      "text/plain": [
       "'BIOINFORMATICS'"
      ]
     },
     "execution_count": 22,
     "metadata": {},
     "output_type": "execute_result"
    }
   ],
   "source": [
    "'bioinformatics'.upper()"
   ]
  },
  {
   "cell_type": "code",
   "execution_count": 23,
   "id": "3f9ae417",
   "metadata": {},
   "outputs": [
    {
     "data": {
      "text/plain": [
       "'Bioinformatics'"
      ]
     },
     "execution_count": 23,
     "metadata": {},
     "output_type": "execute_result"
    }
   ],
   "source": [
    "myname='bioinformatics'\n",
    "myname.capitalize()"
   ]
  },
  {
   "cell_type": "markdown",
   "id": "3364994a",
   "metadata": {},
   "source": [
    "### Find the length of strings/sequences"
   ]
  },
  {
   "cell_type": "code",
   "execution_count": 24,
   "id": "3638a12b",
   "metadata": {},
   "outputs": [
    {
     "data": {
      "text/plain": [
       "11"
      ]
     },
     "execution_count": 24,
     "metadata": {},
     "output_type": "execute_result"
    }
   ],
   "source": [
    "mystring='Hello World'\n",
    "len(mystring)"
   ]
  },
  {
   "cell_type": "code",
   "execution_count": 25,
   "id": "fbb6d1aa",
   "metadata": {},
   "outputs": [
    {
     "data": {
      "text/plain": [
       "7"
      ]
     },
     "execution_count": 25,
     "metadata": {},
     "output_type": "execute_result"
    }
   ],
   "source": [
    "DNA='AGTACGA'\n",
    "len(DNA)"
   ]
  },
  {
   "cell_type": "code",
   "execution_count": 26,
   "id": "25b37f3d",
   "metadata": {},
   "outputs": [],
   "source": [
    "DNA=\"GAGTTCATCCAGATTCGTCATGCCATGGAAAGATCTTCCCGATCTGTACAGTGTGGACGGGACGAGATGCTCAACATGTTTCGTGCACTTGTCTTTATATGGCGTATGTAAATTAGCGTCTACAGCATTGGAATCTATGCGATGGGATCAGATCACAGGCGCCCCGTCAGTCTACATCGTATTACATGTCACGAAACATATGACGTTTTTACCGTAGACATCGAAGGCTCCAGATACGTGCCGTGTGATTGTGCGGGGATACATTTAGAAGTACAGTCGTACTATAAATCAGCCGAATAAAATATTATGTTGATGTCGCGTGACCAAAATAGCTTTAGGGGATCCGTTTCTTCCTACGTTCCGTAATAACAAGACCAGCCGGGATACGTGGTGTGCACGTGATTTAAGGCGCTTCCAGTAGGCCCGAGGTTGTTGCTAGGGTGCGGCACAATCCGCTACT\""
   ]
  },
  {
   "cell_type": "code",
   "execution_count": 27,
   "id": "5f6edb84",
   "metadata": {},
   "outputs": [
    {
     "data": {
      "text/plain": [
       "460"
      ]
     },
     "execution_count": 27,
     "metadata": {},
     "output_type": "execute_result"
    }
   ],
   "source": [
    "len(DNA)"
   ]
  },
  {
   "cell_type": "code",
   "execution_count": 28,
   "id": "0b972629",
   "metadata": {},
   "outputs": [],
   "source": [
    "length_of_sequence=len(DNA)"
   ]
  },
  {
   "cell_type": "code",
   "execution_count": 29,
   "id": "2a407a78",
   "metadata": {},
   "outputs": [
    {
     "name": "stdout",
     "output_type": "stream",
     "text": [
      "460\n"
     ]
    }
   ],
   "source": [
    "print(length_of_sequence)"
   ]
  },
  {
   "cell_type": "markdown",
   "id": "jewish-chrome",
   "metadata": {},
   "source": [
    "### Check for the presence or absence of characters/substrings"
   ]
  },
  {
   "cell_type": "code",
   "execution_count": 30,
   "id": "d1d281c7",
   "metadata": {},
   "outputs": [],
   "source": [
    "mystring=\"I love programming\""
   ]
  },
  {
   "cell_type": "code",
   "execution_count": 31,
   "id": "54b9dc08",
   "metadata": {},
   "outputs": [
    {
     "data": {
      "text/plain": [
       "True"
      ]
     },
     "execution_count": 31,
     "metadata": {},
     "output_type": "execute_result"
    }
   ],
   "source": [
    "'p' in mystring"
   ]
  },
  {
   "cell_type": "code",
   "execution_count": 32,
   "id": "691a26ca",
   "metadata": {},
   "outputs": [
    {
     "data": {
      "text/plain": [
       "False"
      ]
     },
     "execution_count": 32,
     "metadata": {},
     "output_type": "execute_result"
    }
   ],
   "source": [
    "'z' in mystring"
   ]
  },
  {
   "cell_type": "code",
   "execution_count": 33,
   "id": "e83f7b5a",
   "metadata": {},
   "outputs": [
    {
     "data": {
      "text/plain": [
       "False"
      ]
     },
     "execution_count": 33,
     "metadata": {},
     "output_type": "execute_result"
    }
   ],
   "source": [
    "'P' in mystring"
   ]
  },
  {
   "cell_type": "code",
   "execution_count": 34,
   "id": "e64e540b",
   "metadata": {},
   "outputs": [
    {
     "data": {
      "text/plain": [
       "7"
      ]
     },
     "execution_count": 34,
     "metadata": {},
     "output_type": "execute_result"
    }
   ],
   "source": [
    "mystring.find('p')"
   ]
  },
  {
   "cell_type": "code",
   "execution_count": 35,
   "id": "a2899fb6",
   "metadata": {},
   "outputs": [
    {
     "data": {
      "text/plain": [
       "2"
      ]
     },
     "execution_count": 35,
     "metadata": {},
     "output_type": "execute_result"
    }
   ],
   "source": [
    "mystring.find('love')"
   ]
  },
  {
   "cell_type": "markdown",
   "id": "5c9b35a3",
   "metadata": {},
   "source": [
    "### Count the number of characters/substrings "
   ]
  },
  {
   "cell_type": "code",
   "execution_count": 36,
   "id": "5ad7b628",
   "metadata": {},
   "outputs": [],
   "source": [
    "mystring='Bioinformatics'"
   ]
  },
  {
   "cell_type": "code",
   "execution_count": 37,
   "id": "d913cdea",
   "metadata": {},
   "outputs": [
    {
     "data": {
      "text/plain": [
       "2"
      ]
     },
     "execution_count": 37,
     "metadata": {},
     "output_type": "execute_result"
    }
   ],
   "source": [
    "mystring.count('o')"
   ]
  },
  {
   "cell_type": "code",
   "execution_count": 38,
   "id": "a80583ca",
   "metadata": {},
   "outputs": [
    {
     "data": {
      "text/plain": [
       "2"
      ]
     },
     "execution_count": 38,
     "metadata": {},
     "output_type": "execute_result"
    }
   ],
   "source": [
    "'Bioinformatics'.count('o')"
   ]
  },
  {
   "cell_type": "code",
   "execution_count": 39,
   "id": "f61c0adb",
   "metadata": {},
   "outputs": [
    {
     "data": {
      "text/plain": [
       "0"
      ]
     },
     "execution_count": 39,
     "metadata": {},
     "output_type": "execute_result"
    }
   ],
   "source": [
    "mystring.count('O')"
   ]
  },
  {
   "cell_type": "code",
   "execution_count": 40,
   "id": "2e7bafa1",
   "metadata": {},
   "outputs": [],
   "source": [
    "DNA='AGTCATAGAAGG'"
   ]
  },
  {
   "cell_type": "code",
   "execution_count": 41,
   "id": "c32126ae",
   "metadata": {},
   "outputs": [
    {
     "data": {
      "text/plain": [
       "5"
      ]
     },
     "execution_count": 41,
     "metadata": {},
     "output_type": "execute_result"
    }
   ],
   "source": [
    "DNA.count('A')"
   ]
  },
  {
   "cell_type": "code",
   "execution_count": 42,
   "id": "61642911",
   "metadata": {},
   "outputs": [
    {
     "data": {
      "text/plain": [
       "4"
      ]
     },
     "execution_count": 42,
     "metadata": {},
     "output_type": "execute_result"
    }
   ],
   "source": [
    "DNA.count('G')"
   ]
  },
  {
   "cell_type": "code",
   "execution_count": 43,
   "id": "570a3590",
   "metadata": {},
   "outputs": [
    {
     "data": {
      "text/plain": [
       "1"
      ]
     },
     "execution_count": 43,
     "metadata": {},
     "output_type": "execute_result"
    }
   ],
   "source": [
    "DNA.count('C')"
   ]
  },
  {
   "cell_type": "code",
   "execution_count": 44,
   "id": "3b20df58",
   "metadata": {},
   "outputs": [
    {
     "data": {
      "text/plain": [
       "2"
      ]
     },
     "execution_count": 44,
     "metadata": {},
     "output_type": "execute_result"
    }
   ],
   "source": [
    "DNA.count('T')"
   ]
  },
  {
   "cell_type": "code",
   "execution_count": 45,
   "id": "921ea9f2",
   "metadata": {},
   "outputs": [],
   "source": [
    "gc=DNA.count('G')+ DNA.count('C')"
   ]
  },
  {
   "cell_type": "code",
   "execution_count": 46,
   "id": "dbadf34e",
   "metadata": {},
   "outputs": [
    {
     "name": "stdout",
     "output_type": "stream",
     "text": [
      "5\n"
     ]
    }
   ],
   "source": [
    "print(gc)"
   ]
  },
  {
   "cell_type": "code",
   "execution_count": 47,
   "id": "cdce8480",
   "metadata": {},
   "outputs": [],
   "source": [
    "length=len(DNA)"
   ]
  },
  {
   "cell_type": "code",
   "execution_count": 48,
   "id": "42ecff61",
   "metadata": {},
   "outputs": [
    {
     "data": {
      "text/plain": [
       "41.66666666666667"
      ]
     },
     "execution_count": 48,
     "metadata": {},
     "output_type": "execute_result"
    }
   ],
   "source": [
    "gc/length * 100"
   ]
  },
  {
   "cell_type": "code",
   "execution_count": 49,
   "id": "9f1deb61",
   "metadata": {},
   "outputs": [
    {
     "data": {
      "text/plain": [
       "41.66666666666667"
      ]
     },
     "execution_count": 49,
     "metadata": {},
     "output_type": "execute_result"
    }
   ],
   "source": [
    "(gc/length)*100"
   ]
  },
  {
   "cell_type": "code",
   "execution_count": 50,
   "id": "858c908e",
   "metadata": {},
   "outputs": [],
   "source": [
    "percentage_gc=(gc/length)*100"
   ]
  },
  {
   "cell_type": "code",
   "execution_count": 51,
   "id": "86faaf21",
   "metadata": {},
   "outputs": [
    {
     "name": "stdout",
     "output_type": "stream",
     "text": [
      "41.66666666666667\n"
     ]
    }
   ],
   "source": [
    "print(percentage_gc)"
   ]
  },
  {
   "cell_type": "code",
   "execution_count": 52,
   "id": "15a58157",
   "metadata": {},
   "outputs": [
    {
     "name": "stdout",
     "output_type": "stream",
     "text": [
      "Percentage GC is  41.66666666666667\n"
     ]
    }
   ],
   "source": [
    "print('Percentage GC is ',percentage_gc)"
   ]
  },
  {
   "cell_type": "code",
   "execution_count": 53,
   "id": "248fd3ac",
   "metadata": {},
   "outputs": [],
   "source": [
    "DNA2='GGAGGCT'"
   ]
  },
  {
   "cell_type": "code",
   "execution_count": 54,
   "id": "0101b418",
   "metadata": {},
   "outputs": [
    {
     "data": {
      "text/plain": [
       "2"
      ]
     },
     "execution_count": 54,
     "metadata": {},
     "output_type": "execute_result"
    }
   ],
   "source": [
    "DNA2.count('GG')"
   ]
  },
  {
   "cell_type": "markdown",
   "id": "3eac002f",
   "metadata": {},
   "source": [
    "### Replace characters/substrings"
   ]
  },
  {
   "cell_type": "code",
   "execution_count": 55,
   "id": "8c8e739e",
   "metadata": {},
   "outputs": [],
   "source": [
    "mystring='programminG'\n"
   ]
  },
  {
   "cell_type": "code",
   "execution_count": 56,
   "id": "c397c3f8",
   "metadata": {},
   "outputs": [
    {
     "data": {
      "text/plain": [
       "'programming'"
      ]
     },
     "execution_count": 56,
     "metadata": {},
     "output_type": "execute_result"
    }
   ],
   "source": [
    "mystring.replace('G','g')"
   ]
  },
  {
   "cell_type": "code",
   "execution_count": 57,
   "id": "f60176f8",
   "metadata": {},
   "outputs": [
    {
     "data": {
      "text/plain": [
       "'PROgramminG'"
      ]
     },
     "execution_count": 57,
     "metadata": {},
     "output_type": "execute_result"
    }
   ],
   "source": [
    "mystring.replace('pro','PRO')"
   ]
  },
  {
   "cell_type": "code",
   "execution_count": 58,
   "id": "18872753",
   "metadata": {},
   "outputs": [],
   "source": [
    "DNA='AGTACCGA'"
   ]
  },
  {
   "cell_type": "code",
   "execution_count": 59,
   "id": "8714323d",
   "metadata": {},
   "outputs": [
    {
     "data": {
      "text/plain": [
       "'AGUACCGA'"
      ]
     },
     "execution_count": 59,
     "metadata": {},
     "output_type": "execute_result"
    }
   ],
   "source": [
    "DNA.replace('T','U')"
   ]
  },
  {
   "cell_type": "code",
   "execution_count": 60,
   "id": "9ff76323",
   "metadata": {},
   "outputs": [],
   "source": [
    "RNA=DNA.replace('T','U')"
   ]
  },
  {
   "cell_type": "code",
   "execution_count": 61,
   "id": "654632cf",
   "metadata": {},
   "outputs": [
    {
     "name": "stdout",
     "output_type": "stream",
     "text": [
      "AGUACCGA\n"
     ]
    }
   ],
   "source": [
    "print(RNA)"
   ]
  },
  {
   "cell_type": "code",
   "execution_count": null,
   "id": "d6ad22fb",
   "metadata": {},
   "outputs": [],
   "source": []
  },
  {
   "cell_type": "markdown",
   "id": "organized-fiber",
   "metadata": {},
   "source": [
    "### Combine strings/sequences"
   ]
  },
  {
   "cell_type": "code",
   "execution_count": 62,
   "id": "964bf8fc",
   "metadata": {},
   "outputs": [],
   "source": [
    "#appproach1\n",
    "\n",
    "DNA1='AGT'\n",
    "DNA2='TTA'"
   ]
  },
  {
   "cell_type": "code",
   "execution_count": 63,
   "id": "a287d776",
   "metadata": {},
   "outputs": [],
   "source": [
    "combined=DNA1+DNA2"
   ]
  },
  {
   "cell_type": "code",
   "execution_count": 64,
   "id": "57de5a8e",
   "metadata": {},
   "outputs": [
    {
     "name": "stdout",
     "output_type": "stream",
     "text": [
      "AGTTTA\n"
     ]
    }
   ],
   "source": [
    "print(combined)"
   ]
  },
  {
   "cell_type": "code",
   "execution_count": 65,
   "id": "372cbede",
   "metadata": {},
   "outputs": [],
   "source": [
    "firstname='Bioinformatics'\n",
    "secondname='Coach'\n",
    "fullname=firstname+secondname"
   ]
  },
  {
   "cell_type": "code",
   "execution_count": 66,
   "id": "d7b38ec1",
   "metadata": {},
   "outputs": [
    {
     "name": "stdout",
     "output_type": "stream",
     "text": [
      "BioinformaticsCoach\n"
     ]
    }
   ],
   "source": [
    "print(fullname)"
   ]
  },
  {
   "cell_type": "code",
   "execution_count": 67,
   "id": "11a0f32c",
   "metadata": {},
   "outputs": [],
   "source": [
    "fullname=firstname+ ' ' +secondname"
   ]
  },
  {
   "cell_type": "code",
   "execution_count": 68,
   "id": "8a17cd29",
   "metadata": {},
   "outputs": [
    {
     "name": "stdout",
     "output_type": "stream",
     "text": [
      "Bioinformatics Coach\n"
     ]
    }
   ],
   "source": [
    "print(fullname)"
   ]
  },
  {
   "cell_type": "code",
   "execution_count": null,
   "id": "53d7e198",
   "metadata": {},
   "outputs": [],
   "source": []
  },
  {
   "cell_type": "code",
   "execution_count": 69,
   "id": "8043c2c0",
   "metadata": {},
   "outputs": [],
   "source": [
    "#approach 2\n",
    "firstname='Bioinformatics'\n",
    "secondname='Coach'"
   ]
  },
  {
   "cell_type": "code",
   "execution_count": 70,
   "id": "a678ee90",
   "metadata": {},
   "outputs": [],
   "source": [
    "fullname=\"%s %s\" % (firstname,secondname)"
   ]
  },
  {
   "cell_type": "code",
   "execution_count": 71,
   "id": "92d9a63b",
   "metadata": {},
   "outputs": [
    {
     "name": "stdout",
     "output_type": "stream",
     "text": [
      "Bioinformatics Coach\n"
     ]
    }
   ],
   "source": [
    "print(fullname)"
   ]
  },
  {
   "cell_type": "code",
   "execution_count": 72,
   "id": "87a38b50",
   "metadata": {},
   "outputs": [
    {
     "name": "stdout",
     "output_type": "stream",
     "text": [
      "Percentage GC is 41.67\n"
     ]
    }
   ],
   "source": [
    "print('Percentage GC is %0.2f'%percentage_gc)"
   ]
  },
  {
   "cell_type": "code",
   "execution_count": null,
   "id": "a71ca512",
   "metadata": {},
   "outputs": [],
   "source": []
  },
  {
   "cell_type": "code",
   "execution_count": null,
   "id": "958cd017",
   "metadata": {},
   "outputs": [],
   "source": [
    "\n",
    "#approach 3"
   ]
  },
  {
   "cell_type": "code",
   "execution_count": 73,
   "id": "19742b29",
   "metadata": {},
   "outputs": [],
   "source": [
    "firstname='Bioinformatics'\n",
    "secondname='Coach'"
   ]
  },
  {
   "cell_type": "code",
   "execution_count": 74,
   "id": "c32753cc",
   "metadata": {},
   "outputs": [],
   "source": [
    "fullname='{} {}'.format(firstname,secondname)"
   ]
  },
  {
   "cell_type": "code",
   "execution_count": 75,
   "id": "3e8d5dfe",
   "metadata": {},
   "outputs": [
    {
     "name": "stdout",
     "output_type": "stream",
     "text": [
      "Bioinformatics Coach\n"
     ]
    }
   ],
   "source": [
    "print(fullname)"
   ]
  },
  {
   "cell_type": "code",
   "execution_count": null,
   "id": "d8dacc59",
   "metadata": {},
   "outputs": [],
   "source": []
  },
  {
   "cell_type": "markdown",
   "id": "4f151a32",
   "metadata": {},
   "source": [
    "### Indexing and Slicing"
   ]
  },
  {
   "cell_type": "markdown",
   "id": "ef794615",
   "metadata": {},
   "source": [
    "-This is used to access substrings / characters/nucleotides by specifying an **index** or a range of indexes(**start and end**) and in some cases a **step or stride** value.\n",
    "\n",
    "**Syntax**\\\n",
    "S[m,n,s]\\\n",
    "**-S**:string/sequence\\\n",
    "**-m**:start\\\n",
    "**-n**:end\\\n",
    "**-s**:step/stride"
   ]
  },
  {
   "cell_type": "code",
   "execution_count": 77,
   "id": "4863e19a",
   "metadata": {},
   "outputs": [],
   "source": [
    "DNA='AGAGTAGAAGA'"
   ]
  },
  {
   "cell_type": "code",
   "execution_count": 78,
   "id": "1eb6850c",
   "metadata": {},
   "outputs": [
    {
     "data": {
      "text/plain": [
       "'A'"
      ]
     },
     "execution_count": 78,
     "metadata": {},
     "output_type": "execute_result"
    }
   ],
   "source": [
    "DNA[2]"
   ]
  },
  {
   "cell_type": "code",
   "execution_count": 79,
   "id": "381c4cc9",
   "metadata": {},
   "outputs": [
    {
     "data": {
      "text/plain": [
       "'G'"
      ]
     },
     "execution_count": 79,
     "metadata": {},
     "output_type": "execute_result"
    }
   ],
   "source": [
    "DNA[3]"
   ]
  },
  {
   "cell_type": "code",
   "execution_count": 80,
   "id": "58277cdc",
   "metadata": {},
   "outputs": [],
   "source": [
    "string1='Hello'"
   ]
  },
  {
   "cell_type": "code",
   "execution_count": 81,
   "id": "cbee5676",
   "metadata": {},
   "outputs": [
    {
     "data": {
      "text/plain": [
       "'l'"
      ]
     },
     "execution_count": 81,
     "metadata": {},
     "output_type": "execute_result"
    }
   ],
   "source": [
    "string1[2]"
   ]
  },
  {
   "cell_type": "code",
   "execution_count": null,
   "id": "5bd6601b",
   "metadata": {},
   "outputs": [],
   "source": [
    "DNA='AGAGTAGAAGA'"
   ]
  },
  {
   "cell_type": "code",
   "execution_count": 82,
   "id": "b63fcb7a",
   "metadata": {},
   "outputs": [
    {
     "data": {
      "text/plain": [
       "'AGTA'"
      ]
     },
     "execution_count": 82,
     "metadata": {},
     "output_type": "execute_result"
    }
   ],
   "source": [
    "DNA[2:6]"
   ]
  },
  {
   "cell_type": "code",
   "execution_count": 83,
   "id": "881d842f",
   "metadata": {},
   "outputs": [
    {
     "data": {
      "text/plain": [
       "'GAG'"
      ]
     },
     "execution_count": 83,
     "metadata": {},
     "output_type": "execute_result"
    }
   ],
   "source": [
    "DNA[1:4]"
   ]
  },
  {
   "cell_type": "code",
   "execution_count": null,
   "id": "be3f53c4",
   "metadata": {},
   "outputs": [],
   "source": []
  },
  {
   "cell_type": "code",
   "execution_count": 84,
   "id": "85aee6f2",
   "metadata": {},
   "outputs": [],
   "source": [
    "DNA='AGAGTAGAAGA'"
   ]
  },
  {
   "cell_type": "code",
   "execution_count": 91,
   "id": "6ab1162c",
   "metadata": {},
   "outputs": [
    {
     "data": {
      "text/plain": [
       "'AGG'"
      ]
     },
     "execution_count": 91,
     "metadata": {},
     "output_type": "execute_result"
    }
   ],
   "source": [
    "DNA[0:9:3]"
   ]
  },
  {
   "cell_type": "code",
   "execution_count": null,
   "id": "7b7959ef",
   "metadata": {},
   "outputs": [],
   "source": []
  },
  {
   "cell_type": "markdown",
   "id": "1cdce0c4",
   "metadata": {},
   "source": [
    "#### Negative indexing"
   ]
  },
  {
   "cell_type": "markdown",
   "id": "d08903b7",
   "metadata": {},
   "source": [
    "This is used to access the last element(s) of a string/sequence"
   ]
  },
  {
   "cell_type": "code",
   "execution_count": 92,
   "id": "72065ad2",
   "metadata": {},
   "outputs": [],
   "source": [
    "DNA='AGAGTAGAAGA'"
   ]
  },
  {
   "cell_type": "code",
   "execution_count": 93,
   "id": "3dc94acc",
   "metadata": {},
   "outputs": [
    {
     "data": {
      "text/plain": [
       "'A'"
      ]
     },
     "execution_count": 93,
     "metadata": {},
     "output_type": "execute_result"
    }
   ],
   "source": [
    "DNA[-1]"
   ]
  },
  {
   "cell_type": "code",
   "execution_count": 94,
   "id": "72ac694a",
   "metadata": {},
   "outputs": [],
   "source": [
    "DNA='AGAGTAGAAGT'"
   ]
  },
  {
   "cell_type": "code",
   "execution_count": 95,
   "id": "1716f215",
   "metadata": {},
   "outputs": [
    {
     "data": {
      "text/plain": [
       "'T'"
      ]
     },
     "execution_count": 95,
     "metadata": {},
     "output_type": "execute_result"
    }
   ],
   "source": [
    "DNA[-1]"
   ]
  },
  {
   "cell_type": "code",
   "execution_count": 96,
   "id": "17fdc585",
   "metadata": {},
   "outputs": [
    {
     "data": {
      "text/plain": [
       "'G'"
      ]
     },
     "execution_count": 96,
     "metadata": {},
     "output_type": "execute_result"
    }
   ],
   "source": [
    "DNA[-2]"
   ]
  },
  {
   "cell_type": "code",
   "execution_count": 100,
   "id": "631524ce",
   "metadata": {},
   "outputs": [],
   "source": [
    "DNA='AGAGTAGAAGT'"
   ]
  },
  {
   "cell_type": "code",
   "execution_count": 106,
   "id": "efa1914a",
   "metadata": {},
   "outputs": [
    {
     "data": {
      "text/plain": [
       "'TAGAAG'"
      ]
     },
     "execution_count": 106,
     "metadata": {},
     "output_type": "execute_result"
    }
   ],
   "source": [
    "DNA[4:-1]"
   ]
  },
  {
   "cell_type": "code",
   "execution_count": 107,
   "id": "1b50bef5",
   "metadata": {},
   "outputs": [
    {
     "data": {
      "text/plain": [
       "'AAG'"
      ]
     },
     "execution_count": 107,
     "metadata": {},
     "output_type": "execute_result"
    }
   ],
   "source": [
    "DNA[-4:-1]"
   ]
  },
  {
   "cell_type": "code",
   "execution_count": null,
   "id": "844d596e",
   "metadata": {},
   "outputs": [],
   "source": []
  },
  {
   "cell_type": "markdown",
   "id": "29f75cdf",
   "metadata": {},
   "source": [
    "#### Short-hand indexing"
   ]
  },
  {
   "cell_type": "markdown",
   "id": "3c756432",
   "metadata": {},
   "source": [
    "\n",
    " This is done by omitting either the first and or last index.\\\n",
    " **S[:n]** starts the slice from the beginning of the \n",
    "   sequence to the index just before n.\\\n",
    " **S[m:]** starts slice from index m to the end of the \n",
    "   sequence.\\\n",
    " **S[:]** returns a copy of the entire string/sequence\\\n",
    " **S[::-1]** returns reverse of the entire string/sequence\n"
   ]
  },
  {
   "cell_type": "code",
   "execution_count": 108,
   "id": "fee21421",
   "metadata": {},
   "outputs": [],
   "source": [
    "DNA='AGAGTAGAAGT'"
   ]
  },
  {
   "cell_type": "code",
   "execution_count": 109,
   "id": "ddcb4e4d",
   "metadata": {},
   "outputs": [
    {
     "data": {
      "text/plain": [
       "'AGAGT'"
      ]
     },
     "execution_count": 109,
     "metadata": {},
     "output_type": "execute_result"
    }
   ],
   "source": [
    "DNA[:5]"
   ]
  },
  {
   "cell_type": "code",
   "execution_count": 110,
   "id": "a17adc3c",
   "metadata": {},
   "outputs": [
    {
     "data": {
      "text/plain": [
       "'AGAAGT'"
      ]
     },
     "execution_count": 110,
     "metadata": {},
     "output_type": "execute_result"
    }
   ],
   "source": [
    "DNA[5:]"
   ]
  },
  {
   "cell_type": "code",
   "execution_count": 111,
   "id": "95212035",
   "metadata": {},
   "outputs": [
    {
     "data": {
      "text/plain": [
       "'AGAGTAGAAGT'"
      ]
     },
     "execution_count": 111,
     "metadata": {},
     "output_type": "execute_result"
    }
   ],
   "source": [
    "DNA[:]"
   ]
  },
  {
   "cell_type": "code",
   "execution_count": 112,
   "id": "61248433",
   "metadata": {},
   "outputs": [
    {
     "data": {
      "text/plain": [
       "'TGAAGATGAGA'"
      ]
     },
     "execution_count": 112,
     "metadata": {},
     "output_type": "execute_result"
    }
   ],
   "source": [
    "DNA[::-1]"
   ]
  },
  {
   "cell_type": "code",
   "execution_count": 113,
   "id": "dffd28a5",
   "metadata": {},
   "outputs": [
    {
     "data": {
      "text/plain": [
       "'AGAGTAGAAGT'"
      ]
     },
     "execution_count": 113,
     "metadata": {},
     "output_type": "execute_result"
    }
   ],
   "source": [
    "DNA"
   ]
  },
  {
   "cell_type": "code",
   "execution_count": 114,
   "id": "b185f122",
   "metadata": {},
   "outputs": [
    {
     "data": {
      "text/plain": [
       "'TGAAGATGAGA'"
      ]
     },
     "execution_count": 114,
     "metadata": {},
     "output_type": "execute_result"
    }
   ],
   "source": [
    "DNA[::-1]"
   ]
  },
  {
   "cell_type": "markdown",
   "id": "cloudy-belize",
   "metadata": {},
   "source": [
    "### More string manipulations ###"
   ]
  },
  {
   "cell_type": "markdown",
   "id": "atlantic-script",
   "metadata": {},
   "source": [
    "| Function|Action \n",
    "| :--- |:---     \n",
    "|string.find('a')|\t  Find the first position where 'a' occurs in the string\n",
    "|string.count('s')|\t  Counts how many 's' characters are in the string\n",
    "|string.lower()|\t  Copy of string with all characters converted to upper case\n",
    "|string.upper() |\t  Copy of string with all characters converted to upper case\n",
    "|string.isdigit()|\t  Checks if string contains only digits. Returns True or False\n",
    "|string.isalpha()|\t  Checks if string contains only alphabets. Returns True or False\n",
    "|string.alnum()\t|  Checks if the string contains alphanumeric characters only. Returns True or False\n",
    "|string.strip()\t|   Strips a character from both sides of the string\n",
    "|string.split()\t|   Splits the string into a list of substrings\n",
    "|string.replace('s','t')|\t   Replaces all 's' in the string with 't'\n",
    "|string.join(list)|\t   Joins all members of list into a single striing object"
   ]
  },
  {
   "cell_type": "markdown",
   "id": "polished-decade",
   "metadata": {},
   "source": [
    "### Exercise ###"
   ]
  },
  {
   "cell_type": "markdown",
   "id": "paperback-music",
   "metadata": {},
   "source": [
    "*Consider the dna sequence, AGTTAGCTAGGAGGTTAGGGACC*\n",
    "1. How many nucleotides are present?\n",
    "2. Calculate the percentage GC in the sequence.\n",
    "3. How many purines are present?\n",
    "4. How many pyrimidines are present?\n",
    "5. Calculate the percentage of purines in the sequence\n",
    "6. Which nucleotide is in the 10 th position?\n",
    "7. Write the sequences that are present in position 3 to position 9\n",
    "8. What command will you use to find which nucleotides are present from position 10-20 to the end.\n",
    "9. Does the dna sequence contain GGAGG? What command did you use?\n",
    "10. How many times does TTA occur in the sequence?\n",
    "11. At which index does the GTTA begin?\n",
    "12. Does the sequence contain the character Z ? \n"
   ]
  },
  {
   "cell_type": "code",
   "execution_count": 115,
   "id": "52b028e6",
   "metadata": {},
   "outputs": [],
   "source": [
    "#Solution\n",
    "DNA=\"AGTTAGCTAGGAGGTTAGGGACC\""
   ]
  },
  {
   "cell_type": "code",
   "execution_count": 116,
   "id": "d708d94f",
   "metadata": {},
   "outputs": [
    {
     "data": {
      "text/plain": [
       "23"
      ]
     },
     "execution_count": 116,
     "metadata": {},
     "output_type": "execute_result"
    }
   ],
   "source": [
    "#1\n",
    "len(DNA)"
   ]
  },
  {
   "cell_type": "code",
   "execution_count": 118,
   "id": "4a15a71e",
   "metadata": {},
   "outputs": [
    {
     "name": "stdout",
     "output_type": "stream",
     "text": [
      "52.17391304347826\n",
      "52.17\n"
     ]
    }
   ],
   "source": [
    "#2\n",
    "gc=DNA.count('G') + DNA.count('C')\n",
    "length=len(DNA)\n",
    "percentage_gc=(gc/length)*100\n",
    "print(percentage_gc)\n",
    "percentage_gc=round(percentage_gc,2)\n",
    "print(percentage_gc)"
   ]
  },
  {
   "cell_type": "code",
   "execution_count": 119,
   "id": "f9fa6e23",
   "metadata": {},
   "outputs": [
    {
     "name": "stdout",
     "output_type": "stream",
     "text": [
      "15\n"
     ]
    }
   ],
   "source": [
    "#3\n",
    "number_of_purines=DNA.count('A')+DNA.count('G')\n",
    "print(number_of_purines)"
   ]
  },
  {
   "cell_type": "code",
   "execution_count": 120,
   "id": "75854c7a",
   "metadata": {},
   "outputs": [
    {
     "name": "stdout",
     "output_type": "stream",
     "text": [
      "8\n"
     ]
    }
   ],
   "source": [
    "#4\n",
    "number_of_pyrimidines=DNA.count('C')+DNA.count('T')\n",
    "print(number_of_pyrimidines)"
   ]
  },
  {
   "cell_type": "code",
   "execution_count": 121,
   "id": "866fb1b8",
   "metadata": {
    "scrolled": true
   },
   "outputs": [
    {
     "name": "stdout",
     "output_type": "stream",
     "text": [
      "65.21739130434783\n"
     ]
    }
   ],
   "source": [
    "#5\n",
    "number_of_purines=DNA.count('A')+DNA.count('G')\n",
    "length=len(DNA)\n",
    "\n",
    "percentage_of_purines=(number_of_purines/length) * 100\n",
    "print(percentage_of_purines)"
   ]
  },
  {
   "cell_type": "code",
   "execution_count": 122,
   "id": "d7f67c3a",
   "metadata": {},
   "outputs": [
    {
     "name": "stdout",
     "output_type": "stream",
     "text": [
      "G\n"
     ]
    }
   ],
   "source": [
    "#6\n",
    "nucleotide_10=DNA[9]\n",
    "print(nucleotide_10)"
   ]
  },
  {
   "cell_type": "code",
   "execution_count": 123,
   "id": "5dfa60c5",
   "metadata": {},
   "outputs": [
    {
     "name": "stdout",
     "output_type": "stream",
     "text": [
      "TTAGCTA\n"
     ]
    }
   ],
   "source": [
    "#7\n",
    "nucleotides_3_9=DNA[2:9]\n",
    "print(nucleotides_3_9)"
   ]
  },
  {
   "cell_type": "code",
   "execution_count": 124,
   "id": "e93dd6f0",
   "metadata": {},
   "outputs": [
    {
     "name": "stdout",
     "output_type": "stream",
     "text": [
      "GGAGGTTAGGG\n"
     ]
    }
   ],
   "source": [
    "#8\n",
    "nucleotides_10_20=DNA[9:20]\n",
    "print(nucleotides_10_20)"
   ]
  },
  {
   "cell_type": "code",
   "execution_count": 126,
   "id": "a2a3b2a0",
   "metadata": {},
   "outputs": [
    {
     "name": "stdout",
     "output_type": "stream",
     "text": [
      "True\n",
      "9\n"
     ]
    }
   ],
   "source": [
    "#9\n",
    "print('GGAGG' in DNA)\n",
    "\n",
    "print(DNA.find('GGAGG'))\n"
   ]
  },
  {
   "cell_type": "code",
   "execution_count": 127,
   "id": "89a38351",
   "metadata": {},
   "outputs": [
    {
     "data": {
      "text/plain": [
       "2"
      ]
     },
     "execution_count": 127,
     "metadata": {},
     "output_type": "execute_result"
    }
   ],
   "source": [
    "#10\n",
    "DNA.count('TTA')"
   ]
  },
  {
   "cell_type": "code",
   "execution_count": 128,
   "id": "dd93383f",
   "metadata": {},
   "outputs": [
    {
     "data": {
      "text/plain": [
       "1"
      ]
     },
     "execution_count": 128,
     "metadata": {},
     "output_type": "execute_result"
    }
   ],
   "source": [
    "#11\n",
    "DNA.find('GTTA')"
   ]
  },
  {
   "cell_type": "code",
   "execution_count": 129,
   "id": "7dc5b24e",
   "metadata": {},
   "outputs": [
    {
     "data": {
      "text/plain": [
       "False"
      ]
     },
     "execution_count": 129,
     "metadata": {},
     "output_type": "execute_result"
    }
   ],
   "source": [
    "#12\n",
    "'Z' in DNA"
   ]
  }
 ],
 "metadata": {
  "kernelspec": {
   "display_name": "Python 3 (ipykernel)",
   "language": "python",
   "name": "python3"
  },
  "language_info": {
   "codemirror_mode": {
    "name": "ipython",
    "version": 3
   },
   "file_extension": ".py",
   "mimetype": "text/x-python",
   "name": "python",
   "nbconvert_exporter": "python",
   "pygments_lexer": "ipython3",
   "version": "3.8.10"
  }
 },
 "nbformat": 4,
 "nbformat_minor": 5
}
